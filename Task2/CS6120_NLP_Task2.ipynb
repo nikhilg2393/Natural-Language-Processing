{
  "cells": [
    {
      "cell_type": "markdown",
      "metadata": {
        "id": "ni4T_dwEHFVa"
      },
      "source": [
        "## CS 6120: Natural Language Processing - Prof. Ahmad Uzair\n",
        "\n",
        "### Assignment 2: Text Classification and Neural Network\n",
        "### Total Points: 100 points"
      ]
    },
    {
      "cell_type": "markdown",
      "metadata": {
        "id": "loQ22M-bCubq"
      },
      "source": [
        "In Assignment 2, you will be dealing with text classification using Multinomial Naive Bayes and Neural Networks. You will also be dealing with vector visualization. In the previous assingment you implemented Bag of Words as the feature selection method. However, in this assignment you will be using TF-IDF Vectorization instead of Bag of Words. We recommend starting with this assignment a little early as the datasets are quite large and several parts of the assignment might take long duration to execute. "
      ]
    },
    {
      "cell_type": "markdown",
      "metadata": {
        "id": "Q3brglC1C0mZ"
      },
      "source": [
        "## Question 1 Text Classification"
      ]
    },
    {
      "cell_type": "markdown",
      "metadata": {
        "id": "IZ1y75IoC3rE"
      },
      "source": [
        "In the first question you will be dealing with 20 News Group Dataset. You are required to implement TF-IDF vectorization from scratch and perform Multinomial Naive Bayes Classification on the News Group Dataset.\n",
        "You may use appropriate packages or modules for fitting the Multinomial Naive Bayes Model, however, the implementation of the TF-IDF Vectorization should be from the scratch."
      ]
    },
    {
      "cell_type": "markdown",
      "metadata": {
        "id": "yRjM45PyC8ML"
      },
      "source": [
        "The 20 newsgroups dataset comprises around 18000 newsgroups posts on 20 topics split in two subsets: one for training (or development) and the other one for testing (or for performance evaluation). The split between the train and test set is based upon a messages posted before and after a specific date.\n",
        "\n",
        "Link to the original dataset: http://archive.ics.uci.edu/ml/datasets/Twenty+Newsgroups\n",
        "\n",
        "You can also import the dataset from sklearn.datasets"
      ]
    },
    {
      "cell_type": "code",
      "execution_count": null,
      "metadata": {
        "id": "CmFf2INNDJRb",
        "outputId": "f83b7839-b516-4dcc-9f41-2486198e94a5"
      },
      "outputs": [
        {
          "name": "stderr",
          "output_type": "stream",
          "text": [
            "[nltk_data] Error loading punkt: <urlopen error [SSL:\n",
            "[nltk_data]     CERTIFICATE_VERIFY_FAILED] certificate verify failed:\n",
            "[nltk_data]     unable to get local issuer certificate (_ssl.c:1129)>\n",
            "[nltk_data] Error loading stopwords: <urlopen error [SSL:\n",
            "[nltk_data]     CERTIFICATE_VERIFY_FAILED] certificate verify failed:\n",
            "[nltk_data]     unable to get local issuer certificate (_ssl.c:1129)>\n",
            "[nltk_data] Error loading wordnet: <urlopen error [SSL:\n",
            "[nltk_data]     CERTIFICATE_VERIFY_FAILED] certificate verify failed:\n",
            "[nltk_data]     unable to get local issuer certificate (_ssl.c:1129)>\n",
            "[nltk_data] Error loading omw-1.4: <urlopen error [SSL:\n",
            "[nltk_data]     CERTIFICATE_VERIFY_FAILED] certificate verify failed:\n",
            "[nltk_data]     unable to get local issuer certificate (_ssl.c:1129)>\n"
          ]
        },
        {
          "data": {
            "text/plain": [
              "False"
            ]
          },
          "execution_count": 15,
          "metadata": {},
          "output_type": "execute_result"
        }
      ],
      "source": [
        "#importing the libraries\n",
        "\n",
        "import numpy as np\n",
        "import sklearn\n",
        "import ssl\n",
        "from sklearn.feature_extraction.text import TfidfVectorizer\n",
        "from sklearn.datasets import fetch_20newsgroups\n",
        "from pprint import pprint\n",
        "from sklearn.feature_extraction.text import CountVectorizer\n",
        "from sklearn import preprocessing\n",
        "from sklearn.datasets import fetch_20newsgroups\n",
        "import pandas as pd\n",
        "import re\n",
        "import numpy as np\n",
        "from nltk.corpus import semcor\n",
        "from nltk.tokenize import sent_tokenize\n",
        "from nltk.tokenize import  word_tokenize \n",
        "from nltk.corpus import stopwords\n",
        "from nltk.stem import WordNetLemmatizer\n",
        "import nltk\n",
        "from sklearn.naive_bayes import MultinomialNB\n",
        "from sklearn import metrics\n",
        "from sklearn.metrics import f1_score\n",
        "from sklearn.metrics import accuracy_score\n",
        "nltk.download('punkt')\n",
        "nltk.download('stopwords')\n",
        "nltk.download('wordnet')\n",
        "nltk.download('omw-1.4')\n"
      ]
    },
    {
      "cell_type": "code",
      "execution_count": null,
      "metadata": {
        "id": "yiJCPo4HI4mk"
      },
      "outputs": [],
      "source": [
        "try:\n",
        "    _create_unverified_https_context = ssl._create_unverified_context\n",
        "except AttributeError:\n",
        "    pass\n",
        "else:\n",
        "    ssl._create_default_https_context = _create_unverified_https_context"
      ]
    },
    {
      "cell_type": "code",
      "execution_count": null,
      "metadata": {
        "id": "AEp1SHe5DKCB"
      },
      "outputs": [],
      "source": [
        "# Import the 20 news group dataset utilizing sklearn library\n",
        "\n",
        "mydata_train = fetch_20newsgroups(subset='train')\n",
        "\n",
        "mydata_test = fetch_20newsgroups(subset='test')\n"
      ]
    },
    {
      "cell_type": "code",
      "execution_count": null,
      "metadata": {
        "id": "OscOmcE0DMHa",
        "outputId": "e362638e-5b85-4cfa-ada6-a701da9ec760"
      },
      "outputs": [
        {
          "name": "stdout",
          "output_type": "stream",
          "text": [
            "['alt.atheism',\n",
            " 'comp.graphics',\n",
            " 'comp.os.ms-windows.misc',\n",
            " 'comp.sys.ibm.pc.hardware',\n",
            " 'comp.sys.mac.hardware',\n",
            " 'comp.windows.x',\n",
            " 'misc.forsale',\n",
            " 'rec.autos',\n",
            " 'rec.motorcycles',\n",
            " 'rec.sport.baseball',\n",
            " 'rec.sport.hockey',\n",
            " 'sci.crypt',\n",
            " 'sci.electronics',\n",
            " 'sci.med',\n",
            " 'sci.space',\n",
            " 'soc.religion.christian',\n",
            " 'talk.politics.guns',\n",
            " 'talk.politics.mideast',\n",
            " 'talk.politics.misc',\n",
            " 'talk.religion.misc']\n"
          ]
        }
      ],
      "source": [
        "# Print the news groups(target) in the dataset\n",
        "\n",
        "pprint(list(mydata_train.target_names))"
      ]
    },
    {
      "cell_type": "code",
      "execution_count": null,
      "metadata": {
        "id": "JvQb2r0aDR_J",
        "outputId": "9acc5cbe-1c99-4bbb-fae7-2e9a6c0e680c"
      },
      "outputs": [
        {
          "name": "stdout",
          "output_type": "stream",
          "text": [
            "<class 'sklearn.utils._bunch.Bunch'>\n",
            "<class 'sklearn.utils._bunch.Bunch'>\n"
          ]
        }
      ],
      "source": [
        "# What is the type of 'mydata_train' and 'mydata_test'\n",
        "\n",
        "print(type(mydata_train))\n",
        "print(type(mydata_test))"
      ]
    },
    {
      "cell_type": "code",
      "execution_count": null,
      "metadata": {
        "id": "ozzwyREhDaMK",
        "outputId": "0d40eaed-aebb-4494-9b9e-a8ce0072e000"
      },
      "outputs": [
        {
          "name": "stdout",
          "output_type": "stream",
          "text": [
            "11314\n",
            "11314\n",
            "7532\n",
            "7532\n"
          ]
        }
      ],
      "source": [
        "# Check the length of the data\n",
        "\n",
        "print(len(mydata_train.data))\n",
        "print(len(mydata_train.filenames))\n",
        "print(len(mydata_test.data))\n",
        "print(len(mydata_test.filenames))"
      ]
    },
    {
      "cell_type": "markdown",
      "metadata": {
        "id": "BlipMuEpDz-K"
      },
      "source": [
        "### Expected Output: \n",
        "11314\n",
        "\n",
        "11314\n",
        "\n",
        "7532\n",
        "\n",
        "7532"
      ]
    },
    {
      "cell_type": "markdown",
      "metadata": {
        "id": "55FKOBBuEDI2"
      },
      "source": [
        "## Extracting Features from the Dataset                        (20 Points)"
      ]
    },
    {
      "cell_type": "markdown",
      "metadata": {
        "id": "u4GDENzmEEkG"
      },
      "source": [
        "In order to perform machine learning on text documents, we first need to turn the text content into numerical feature vectors."
      ]
    },
    {
      "cell_type": "markdown",
      "metadata": {
        "id": "OgxfDXmxEHid"
      },
      "source": [
        "### TF-IDF Vectorization"
      ]
    },
    {
      "cell_type": "markdown",
      "metadata": {
        "id": "Q8qNFFYyEKsa"
      },
      "source": [
        "Our model cannot simply read the text data so we convert it into numerical format. In order to convert the data into numerical format we create vectors from text.\n",
        "\n",
        "For this particular purpose we could either employ Bag of Words or TF-IDF Vectorization\n",
        "\n",
        "Bag of Words just creates a set of vectors containing the count of word occurrences in the document (reviews), while the TF-IDF model contains information on the more important words and the less important ones as well.\n",
        "\n",
        "TF-IDF stands for Term Frequency-Inverse Document Frequency, which instead of giving more weight to words that occur more frequently, it gives a higher weight to words that occur less frequently.\n",
        "\n",
        "Ref:https://www.analyticsvidhya.com/blog/2020/02/quick-introduction-bag-of-words-bow-tf-idf/#:~:text=Bag%20of%20Words%20just%20creates,less%20important%20ones%20as%20well."
      ]
    },
    {
      "cell_type": "markdown",
      "metadata": {
        "id": "dLzgRJRZEP3k"
      },
      "source": [
        "TF-IDF = Term Frequency (TF) * Inverse Document Frequency (IDF)"
      ]
    },
    {
      "cell_type": "markdown",
      "metadata": {
        "id": "xe5lHi3NE1QJ"
      },
      "source": [
        "Term Frequency is the measure of the frequency of words in a document. It is the ratio of the number of times the word appears in a document compared to the total number of words in that document.\n",
        "\n",
        "The words that occur rarely in the corpus have a high IDF score. It is the log of the ratio of the number of documents to the number of documents containing the word."
      ]
    },
    {
      "cell_type": "markdown",
      "metadata": {
        "id": "HXotAER_EQ8T"
      },
      "source": [
        "idf(t) = log(N/(df + 1))"
      ]
    },
    {
      "cell_type": "code",
      "execution_count": null,
      "metadata": {
        "id": "2vzVI8ylFAEl"
      },
      "outputs": [],
      "source": [
        "text = mydata_train.data\n",
        "test = mydata_test.data"
      ]
    },
    {
      "cell_type": "code",
      "execution_count": null,
      "metadata": {
        "id": "uPyhxHcII4ml"
      },
      "outputs": [],
      "source": [
        "lemma = WordNetLemmatizer()"
      ]
    },
    {
      "cell_type": "markdown",
      "metadata": {
        "id": "HZ2AatmvFtE-"
      },
      "source": [
        "## Preprocessing the Corpus"
      ]
    },
    {
      "cell_type": "markdown",
      "metadata": {
        "id": "yQQsqcto79zE"
      },
      "source": [
        "What is the significant difference between the Niave Bayes Implementation using Bag of Words and TF-IDF? (5 points)"
      ]
    },
    {
      "cell_type": "code",
      "execution_count": null,
      "metadata": {
        "id": "XyJbe42AFuHp"
      },
      "outputs": [],
      "source": [
        "# Preprocessing the data\n",
        "lines = [] \n",
        "word_list = []\n",
        "\n",
        "for line in text:\n",
        "    #tokenize the text documents and update the lists word_list and lines\n",
        "    line = line.lower()\n",
        "    line = word_tokenize(line)\n",
        "    line = [i for i in line if i.isalpha()]\n",
        "    for word in line:\n",
        "        word_list.append(word)\n",
        "    lines.append(line)\n",
        "# Make sure the word_list contains unique tokens\n",
        "word_list = set(word_list)\n",
        "\n",
        "# Calculate the total documents present in the corpus\n",
        "total_docs = len(lines)\n",
        " \n",
        "#Create a dictionary to keep track of index of each word\n",
        "dict_idx = {key: val for val, key in enumerate(word_list)}"
      ]
    },
    {
      "cell_type": "code",
      "execution_count": null,
      "metadata": {
        "id": "E6M_CoI9FxYb"
      },
      "outputs": [],
      "source": [
        "# Create a frequency dictionary\n",
        " \n",
        "def frequency_dict(lines, word_list):\n",
        "    '''\n",
        "    lines: list containing all the tokens\n",
        "    ---\n",
        "    freq_word: returns a dictionary which keeps the count of the number of documents containing the given word\n",
        "    '''\n",
        "    freq_word = {}\n",
        "    for word in word_list:\n",
        "      freq_word[word] = 0\n",
        "      for row in lines:\n",
        "        if word in row:\n",
        "          freq_word[word] += 1\n",
        "    return freq_word"
      ]
    },
    {
      "cell_type": "code",
      "execution_count": null,
      "metadata": {
        "id": "qFkt9KBgFz43",
        "outputId": "14aa95e0-288b-4414-c0ee-62524878882c"
      },
      "outputs": [
        {
          "data": {
            "text/plain": [
              "{'machen': 1,\n",
              " 'furse': 1,\n",
              " 'mcday': 1,\n",
              " 'mediaeval': 3,\n",
              " 'enjoyed': 27,\n",
              " 'katan': 1,\n",
              " 'foundations': 14,\n",
              " 'markets': 31,\n",
              " 'zimbelman': 1,\n",
              " 'dolan': 1,\n",
              " 'personalities': 7,\n",
              " 'gbp': 1,\n",
              " 'hyperons': 1,\n",
              " 'lagged': 2,\n",
              " 'watchit': 2,\n",
              " 'kjrnevr': 1,\n",
              " 'odell': 1,\n",
              " 'litigant': 1,\n",
              " 'junyan': 1,\n",
              " 'thulcanra': 1,\n",
              " 'latitudes': 2,\n",
              " 'subtree': 1,\n",
              " 'wqo': 1,\n",
              " 'humbug': 2,\n",
              " 'plants': 26,\n",
              " 'istries': 1,\n",
              " 'origins': 20,\n",
              " 'senex': 1,\n",
              " 'counntries': 3,\n",
              " 'barsz': 1,\n",
              " 'wuarchive': 11,\n",
              " 'wishes': 61,\n",
              " 'scream': 28,\n",
              " 'dvax': 1,\n",
              " 'theese': 1,\n",
              " 'froehlich': 2,\n",
              " 'encouragement': 3,\n",
              " 'gwt': 1,\n",
              " 'hian': 2,\n",
              " 'nicol': 2,\n",
              " 'insulator': 1,\n",
              " 'claims': 247,\n",
              " 'icyuzu': 1,\n",
              " 'warriner': 1,\n",
              " 'jrlk': 1,\n",
              " 'tjl': 1,\n",
              " 'mistaking': 2,\n",
              " 'sawed': 1,\n",
              " 'regulars': 13,\n",
              " 'rsjoyce': 1,\n",
              " 'clack': 4,\n",
              " 'ranting': 14,\n",
              " 'znkjzlahf': 1,\n",
              " 'annex': 8,\n",
              " 'sargon': 2,\n",
              " 'settler': 2,\n",
              " 'bwillard': 3,\n",
              " 'conveniant': 2,\n",
              " 'swe': 3,\n",
              " 'buttonpress': 1,\n",
              " 'kepley': 2,\n",
              " 'nyjnlf': 2,\n",
              " 'infinitude': 1,\n",
              " 'fanzine': 1,\n",
              " 'alt': 20,\n",
              " 'fbihh': 13,\n",
              " 'xli': 2,\n",
              " 'olunacak': 1,\n",
              " 'hianleong': 1,\n",
              " 'frustrates': 1,\n",
              " 'wierdos': 1,\n",
              " 'holstered': 3,\n",
              " 'ssns': 1,\n",
              " 'moderately': 9,\n",
              " 'zterm': 5,\n",
              " 'quakers': 21,\n",
              " 'mattias': 4,\n",
              " 'benchtrial': 2,\n",
              " 'immesurably': 3,\n",
              " 'communicaiton': 1,\n",
              " 'alternating': 8,\n",
              " 'conversations': 53,\n",
              " 'affirmative': 10,\n",
              " 'cordless': 26,\n",
              " 'floors': 11,\n",
              " 'gord': 9,\n",
              " 'idears': 1,\n",
              " 'intervening': 2,\n",
              " 'severly': 8,\n",
              " 'vernon': 21,\n",
              " 'maclean': 7,\n",
              " 'laudicina': 7,\n",
              " 'profsoyuznaya': 1,\n",
              " 'crater': 6,\n",
              " 'sheinfeld': 2,\n",
              " 'mcfadyen': 2,\n",
              " 'iias': 1,\n",
              " 'point': 1239,\n",
              " 'cgpp': 1,\n",
              " 'subtlest': 1,\n",
              " 'con': 34,\n",
              " 'digs': 1,\n",
              " 'unnoticed': 3,\n",
              " 'fifty': 27,\n",
              " 'zaporozhets': 1,\n",
              " 'mpoh': 1,\n",
              " 'mreamy': 1,\n",
              " 'negate': 4,\n",
              " 'entice': 2,\n",
              " 'randolph': 5,\n",
              " 'reaffirms': 1,\n",
              " 'derby': 18,\n",
              " 'alles': 4,\n",
              " 'halides': 2,\n",
              " 'softwares': 6,\n",
              " 'libertues': 1,\n",
              " 'madson': 1,\n",
              " 'moriarty': 1,\n",
              " 'speedloader': 1,\n",
              " 'pick': 223,\n",
              " 'keener': 2,\n",
              " 'previdi': 3,\n",
              " 'anneser': 4,\n",
              " 'propellant': 7,\n",
              " 'vellum': 1,\n",
              " 'milkyway': 1,\n",
              " 'demie': 1,\n",
              " 'cherkez': 1,\n",
              " 'relay': 21,\n",
              " 'hugged': 2,\n",
              " 'dissent': 5,\n",
              " 'healthier': 4,\n",
              " 'distorted': 26,\n",
              " 'veils': 2,\n",
              " 'tack': 10,\n",
              " 'fanaticism': 4,\n",
              " 'ecuador': 2,\n",
              " 'spotty': 7,\n",
              " 'polytheistic': 1,\n",
              " 'clevis': 1,\n",
              " 'cowden': 1,\n",
              " 'rantings': 4,\n",
              " 'broward': 23,\n",
              " 'starch': 2,\n",
              " 'congragation': 1,\n",
              " 'canadian': 99,\n",
              " 'valuino': 2,\n",
              " 'stephenh': 1,\n",
              " 'pomposity': 2,\n",
              " 'wilpon': 1,\n",
              " 'agcs': 1,\n",
              " 'gumption': 1,\n",
              " 'medicinal': 1,\n",
              " 'marion': 2,\n",
              " 'courage': 21,\n",
              " 'deceiver': 4,\n",
              " 'altoona': 1,\n",
              " 'ttfonts': 4,\n",
              " 'identicle': 1,\n",
              " 'nee': 2,\n",
              " 'grandslam': 1,\n",
              " 'sandbags': 1,\n",
              " 'vampire': 3,\n",
              " 'emine': 1,\n",
              " 'wecker': 1,\n",
              " 'waterski': 3,\n",
              " 'reentry': 5,\n",
              " 'kypreos': 2,\n",
              " 'dresden': 21,\n",
              " 'directories': 46,\n",
              " 'keach': 1,\n",
              " 'detergent': 5,\n",
              " 'wormtown': 2,\n",
              " 'scatch': 2,\n",
              " 'joined': 33,\n",
              " 'fikpikxp': 1,\n",
              " 'propagate': 2,\n",
              " 'djf': 5,\n",
              " 'otw': 3,\n",
              " 'acquaint': 2,\n",
              " 'berthold': 2,\n",
              " 'sumatriptan': 2,\n",
              " 'riled': 1,\n",
              " 'sportswriting': 5,\n",
              " 'corp': 52,\n",
              " 'definition': 189,\n",
              " 'digitizers': 1,\n",
              " 'mahiye': 1,\n",
              " 'gamblers': 1,\n",
              " 'vpachr': 1,\n",
              " 'accordion': 2,\n",
              " 'pope': 55,\n",
              " 'avakian': 1,\n",
              " 'yashica': 1,\n",
              " 'cached': 6,\n",
              " 'palpitations': 2,\n",
              " 'faxed': 3,\n",
              " 'exterior': 17,\n",
              " 'definiens': 3,\n",
              " 'xtdisplayofobject': 2,\n",
              " 'wingert': 3,\n",
              " 'moise': 3,\n",
              " 'ies': 1,\n",
              " 'clams': 1,\n",
              " 'feldman': 7,\n",
              " 'dswartz': 5,\n",
              " 'umask': 3,\n",
              " 'worst': 159,\n",
              " 'governmental': 20,\n",
              " 'relaxing': 3,\n",
              " 'macrons': 1,\n",
              " 'zemlicka': 1,\n",
              " 'sqakcq': 1,\n",
              " 'xtvacreatemanagedwidget': 4,\n",
              " 'mosfets': 3,\n",
              " 'calmer': 3,\n",
              " 'godhood': 1,\n",
              " 'immunity': 9,\n",
              " 'subtic': 1,\n",
              " 'fabbrica': 1,\n",
              " 'asesino': 1,\n",
              " 'marched': 10,\n",
              " 'khby': 1,\n",
              " 'markowitz': 3,\n",
              " 'distorting': 2,\n",
              " 'baranelli': 1,\n",
              " 'authorizing': 4,\n",
              " 'jumble': 1,\n",
              " 'rsteele': 4,\n",
              " 'mysogyny': 2,\n",
              " 'swinging': 10,\n",
              " 'jkeais': 1,\n",
              " 'ultimately': 46,\n",
              " 'vielmetti': 4,\n",
              " 'antecedent': 1,\n",
              " 'orgone': 1,\n",
              " 'meadville': 1,\n",
              " 'inte': 1,\n",
              " 'tethys': 1,\n",
              " 'welfare': 35,\n",
              " 'cents': 24,\n",
              " 'wildest': 3,\n",
              " 'jeff': 177,\n",
              " 'striker': 4,\n",
              " 'overstress': 5,\n",
              " 'snotty': 1,\n",
              " 'replies': 125,\n",
              " 'passthrough': 1,\n",
              " 'older': 136,\n",
              " 'incedently': 2,\n",
              " 'quamran': 1,\n",
              " 'xav': 1,\n",
              " 'unspecified': 4,\n",
              " 'punsihment': 1,\n",
              " 'thrill': 5,\n",
              " 'shirts': 10,\n",
              " 'ardrey': 1,\n",
              " 'msql': 1,\n",
              " 'xie': 3,\n",
              " 'incomplete': 24,\n",
              " 'trader': 5,\n",
              " 'val': 8,\n",
              " 'fake': 34,\n",
              " 'polishing': 2,\n",
              " 'ngan': 1,\n",
              " 'spearmen': 1,\n",
              " 'reassurance': 3,\n",
              " 'ney': 5,\n",
              " 'pqjq': 1,\n",
              " 'gilmore': 3,\n",
              " 'propaganda': 76,\n",
              " 'yamakawa': 1,\n",
              " 'pollutant': 1,\n",
              " 'jammed': 6,\n",
              " 'moronic': 1,\n",
              " 'cmu': 11,\n",
              " 'recognisable': 4,\n",
              " 'jew': 69,\n",
              " 'xtnlabel': 3,\n",
              " 'cloistered': 1,\n",
              " 'stressor': 1,\n",
              " 'duplications': 1,\n",
              " 'safely': 34,\n",
              " 'grabbers': 4,\n",
              " 'macmags': 3,\n",
              " 'deciphered': 5,\n",
              " 'analytic': 7,\n",
              " 'nir': 1,\n",
              " 'conceps': 1,\n",
              " 'collections': 16,\n",
              " 'patient': 60,\n",
              " 'lidar': 2,\n",
              " 'sceptique': 1,\n",
              " 'plastique': 2,\n",
              " 'grechko': 1,\n",
              " 'puncture': 5,\n",
              " 'atleast': 11,\n",
              " 'echter': 1,\n",
              " 'egocentric': 1,\n",
              " 'refuting': 4,\n",
              " 'obstructuon': 1,\n",
              " 'regretable': 3,\n",
              " 'lasner': 2,\n",
              " 'vanagon': 1,\n",
              " 'inconceivable': 4,\n",
              " 'akachhy': 1,\n",
              " 'processed': 23,\n",
              " 'wageningen': 3,\n",
              " 'lads': 2,\n",
              " 'manueverable': 2,\n",
              " 'whimsical': 1,\n",
              " 'riddles': 1,\n",
              " 'krouth': 1,\n",
              " 'prosecutors': 6,\n",
              " 'belgeler': 1,\n",
              " 'mazdas': 1,\n",
              " 'fancied': 1,\n",
              " 'faxes': 11,\n",
              " 'cmaps': 1,\n",
              " 'donkeys': 3,\n",
              " 'vancanese': 2,\n",
              " 'mecc': 1,\n",
              " 'uniprocessor': 1,\n",
              " 'znk': 4,\n",
              " 'fnq': 1,\n",
              " 'bucko': 1,\n",
              " 'neat': 65,\n",
              " 'harddrives': 1,\n",
              " 'marking': 3,\n",
              " 'seafood': 1,\n",
              " 'ffl': 3,\n",
              " 'nrd': 1,\n",
              " 'apart': 114,\n",
              " 'unequally': 1,\n",
              " 'settling': 9,\n",
              " 'haziran': 1,\n",
              " 'fuz': 1,\n",
              " 'palisades': 2,\n",
              " 'thuc': 1,\n",
              " 'salomar': 1,\n",
              " 'incinerated': 2,\n",
              " 'anon': 11,\n",
              " 'characterised': 1,\n",
              " 'simplified': 8,\n",
              " 'inhalants': 4,\n",
              " 'heracleous': 6,\n",
              " 'embryology': 1,\n",
              " 'compromising': 8,\n",
              " 'sandstorm': 1,\n",
              " 'analog': 65,\n",
              " 'gsulliva': 1,\n",
              " 'clintp': 1,\n",
              " 'dragondictate': 1,\n",
              " 'graphsupport': 1,\n",
              " 'tcm': 1,\n",
              " 'gbt': 1,\n",
              " 'earmark': 1,\n",
              " 'uals': 1,\n",
              " 'toddlers': 1,\n",
              " 'antonov': 2,\n",
              " 'inhis': 2,\n",
              " 'intrepid': 13,\n",
              " 'lubricate': 3,\n",
              " 'josip': 1,\n",
              " 'signaware': 1,\n",
              " 'plow': 2,\n",
              " 'dealerships': 4,\n",
              " 'portrayed': 9,\n",
              " 'elie': 1,\n",
              " 'flb': 9,\n",
              " 'reinscribed': 2,\n",
              " 'weet': 1,\n",
              " 'ridding': 1,\n",
              " 'jznl': 1,\n",
              " 'petr': 5,\n",
              " 'vigor': 2,\n",
              " 'uqei': 2,\n",
              " 'rtrue': 1,\n",
              " 'kitabjian': 4,\n",
              " 'bastards': 15,\n",
              " 'hicnet': 4,\n",
              " 'resisted': 9,\n",
              " 'dn': 12,\n",
              " 'unwantingly': 2,\n",
              " 'taka': 2,\n",
              " 'passages': 50,\n",
              " 'responsibile': 1,\n",
              " 'supplements': 7,\n",
              " 'commerically': 2,\n",
              " 'ignacio': 5,\n",
              " 'byt': 1,\n",
              " 'lurking': 9,\n",
              " 'intercepts': 13,\n",
              " 'unsecure': 11,\n",
              " 'atividades': 1,\n",
              " 'technical': 285,\n",
              " 'octopus': 18,\n",
              " 'jlfijs': 1,\n",
              " 'enrish': 1,\n",
              " 'villalta': 2,\n",
              " 'consuming': 8,\n",
              " 'butylated': 1,\n",
              " 'followeth': 2,\n",
              " 'sev': 1,\n",
              " 'lazarum': 1,\n",
              " 'benny': 5,\n",
              " 'rinaco': 2,\n",
              " 'samurai': 2,\n",
              " 'dingbats': 1,\n",
              " 'keeler': 1,\n",
              " 'znf': 1,\n",
              " 'costello': 6,\n",
              " 'thet': 2,\n",
              " 'simultaion': 1,\n",
              " 'sceptre': 1,\n",
              " 'yulaev': 3,\n",
              " 'bromeister': 2,\n",
              " 'ntakahas': 1,\n",
              " 'resolved': 20,\n",
              " 'pslv': 1,\n",
              " 'stressfree': 1,\n",
              " 'promising': 27,\n",
              " 'miff': 2,\n",
              " 'hcf': 3,\n",
              " 'marbled': 1,\n",
              " 'konsult': 1,\n",
              " 'stern': 15,\n",
              " 'toplevelshellpart': 1,\n",
              " 'congested': 1,\n",
              " 'availabel': 1,\n",
              " 'troups': 2,\n",
              " 'chages': 1,\n",
              " 'vazzag': 1,\n",
              " 'mychalkiw': 1,\n",
              " 'bunch': 195,\n",
              " 'sickle': 2,\n",
              " 'cheater': 2,\n",
              " 'occultism': 2,\n",
              " 'users': 254,\n",
              " 'moods': 2,\n",
              " 'rpaturi': 1,\n",
              " 'trx': 1,\n",
              " 'xwd': 11,\n",
              " 'johnc': 5,\n",
              " 'founation': 1,\n",
              " 'mercutio': 1,\n",
              " 'whirley': 1,\n",
              " 'unblanking': 1,\n",
              " 'somenone': 3,\n",
              " 'usv': 2,\n",
              " 'postcript': 4,\n",
              " 'confucius': 1,\n",
              " 'jaromir': 6,\n",
              " 'everybody': 192,\n",
              " 'kwuo': 1,\n",
              " 'olk': 1,\n",
              " 'uid': 1,\n",
              " 'some': 3519,\n",
              " 'asset': 12,\n",
              " 'sovyet': 3,\n",
              " 'maintech': 1,\n",
              " 'avation': 2,\n",
              " 'sentences': 22,\n",
              " 'getnextfont': 1,\n",
              " 'seeing': 201,\n",
              " 'agha': 1,\n",
              " 'vehemence': 3,\n",
              " 'britain': 53,\n",
              " 'pigeons': 3,\n",
              " 'analogic': 2,\n",
              " 'inroads': 2,\n",
              " 'upland': 1,\n",
              " 'flightsims': 1,\n",
              " 'fhtagn': 1,\n",
              " 'qualify': 31,\n",
              " 'hydraulics': 1,\n",
              " 'iras': 5,\n",
              " 'conserved': 1,\n",
              " 'ofu': 1,\n",
              " 'shelton': 3,\n",
              " 'movf': 1,\n",
              " 'substantiation': 2,\n",
              " 'te': 17,\n",
              " 'iyso': 1,\n",
              " 'mactinosh': 1,\n",
              " 'xtgcbglrbhkc': 1,\n",
              " 'dtmb': 2,\n",
              " 'lettering': 2,\n",
              " 'sought': 40,\n",
              " 'definiation': 1,\n",
              " 'decayed': 3,\n",
              " 'tact': 6,\n",
              " 'ecac': 9,\n",
              " 'ffujita': 1,\n",
              " 'basket': 4,\n",
              " 'bowles': 4,\n",
              " 'rpms': 6,\n",
              " 'separated': 32,\n",
              " 'howled': 1,\n",
              " 'caldicott': 1,\n",
              " 'gruber': 5,\n",
              " 'spectrograph': 3,\n",
              " 'umyin': 3,\n",
              " 'odishelidge': 1,\n",
              " 'argumentem': 1,\n",
              " 'modification': 20,\n",
              " 'dancers': 2,\n",
              " 'finalize': 1,\n",
              " 'amicos': 1,\n",
              " 'xdbx': 2,\n",
              " 'eagerness': 2,\n",
              " 'memorize': 2,\n",
              " 'flounders': 1,\n",
              " 'neptune': 10,\n",
              " 'ida': 12,\n",
              " 'mpq': 1,\n",
              " 'oafp': 1,\n",
              " 'jberman': 1,\n",
              " 'auctioned': 1,\n",
              " 'transcends': 5,\n",
              " 'vengefulness': 1,\n",
              " 'artic': 3,\n",
              " 'dbergmann': 1,\n",
              " 'dingers': 4,\n",
              " 'helke': 1,\n",
              " 'ole': 11,\n",
              " 'instace': 1,\n",
              " 'yount': 11,\n",
              " 'dsps': 2,\n",
              " 'thud': 2,\n",
              " 'sham': 4,\n",
              " 'controller': 179,\n",
              " 'bright': 48,\n",
              " 'malarchuk': 1,\n",
              " 'interceptors': 1,\n",
              " 'neuen': 1,\n",
              " 'irate': 3,\n",
              " 'thip': 1,\n",
              " 'cfd': 2,\n",
              " 'kolodner': 1,\n",
              " 'mercker': 2,\n",
              " 'blurry': 3,\n",
              " 'sacral': 2,\n",
              " 'dyker': 1,\n",
              " 'jaeschke': 1,\n",
              " 'moj': 1,\n",
              " 'cxg': 1,\n",
              " 'ruhlari': 2,\n",
              " 'khun': 1,\n",
              " 'evolutionaire': 1,\n",
              " 'escapee': 1,\n",
              " 'cordon': 1,\n",
              " 'weizenbaum': 1,\n",
              " 'zippppppppppp': 1,\n",
              " 'mnras': 1,\n",
              " 'bonding': 3,\n",
              " 'bate': 2,\n",
              " 'acutely': 2,\n",
              " 'lach': 4,\n",
              " 'stand': 218,\n",
              " 'telesci': 2,\n",
              " 'starcat': 4,\n",
              " 'dark': 101,\n",
              " 'precursors': 2,\n",
              " 'shakh': 1,\n",
              " 'fugazi': 1,\n",
              " 'pistons': 9,\n",
              " 'bits': 125,\n",
              " 'ppg': 4,\n",
              " 'quia': 1,\n",
              " 'packet': 74,\n",
              " 'komitas': 1,\n",
              " 'mehomitan': 1,\n",
              " 'bev': 4,\n",
              " 'rawhide': 3,\n",
              " 'symbiotics': 3,\n",
              " 'rclar': 1,\n",
              " 'gbhghxh': 1,\n",
              " 'kelly': 31,\n",
              " 'tommi': 4,\n",
              " 'manufactures': 17,\n",
              " 'wtm': 13,\n",
              " 'mgolden': 1,\n",
              " 'zvmk': 1,\n",
              " 'quarterly': 21,\n",
              " 'posess': 1,\n",
              " 'fcc': 13,\n",
              " 'caricature': 2,\n",
              " 'hebern': 1,\n",
              " 'thrush': 7,\n",
              " 'pawl': 2,\n",
              " 'landscaped': 1,\n",
              " 'ontology': 4,\n",
              " 'dietikon': 1,\n",
              " 'aden': 4,\n",
              " 'eucharist': 3,\n",
              " 'ketterer': 5,\n",
              " 'fluke': 23,\n",
              " 'patch': 56,\n",
              " 'gulshan': 1,\n",
              " 'discounted': 6,\n",
              " 'brianzex': 1,\n",
              " 'halkini': 1,\n",
              " 'blender': 4,\n",
              " 'stifle': 4,\n",
              " 'ending': 39,\n",
              " 'injections': 4,\n",
              " 'jumped': 28,\n",
              " 'adlib': 5,\n",
              " 'mma': 3,\n",
              " 'colemn': 1,\n",
              " 'wiedergegebene': 1,\n",
              " 'sharpened': 2,\n",
              " 'shadwell': 1,\n",
              " 'danks': 1,\n",
              " 'justin': 19,\n",
              " 'hypoglycemic': 3,\n",
              " 'zimmerman': 7,\n",
              " 'ua': 13,\n",
              " 'ons': 2,\n",
              " 'tazc': 1,\n",
              " 'conductors': 6,\n",
              " 'bea': 2,\n",
              " 'kzm': 1,\n",
              " 'castles': 1,\n",
              " 'sabin': 10,\n",
              " 'dk': 9,\n",
              " 'inbfoworld': 2,\n",
              " 'roch': 1,\n",
              " 'dolezal': 2,\n",
              " 'ventured': 2,\n",
              " 'vineyard': 1,\n",
              " 'geosynch': 1,\n",
              " 'ithink': 2,\n",
              " 'xtscreendatabase': 4,\n",
              " 'dioscorus': 1,\n",
              " 'defended': 8,\n",
              " 'whitehurst': 3,\n",
              " 'waking': 12,\n",
              " 'traven': 6,\n",
              " 'beaming': 3,\n",
              " 'sergei': 5,\n",
              " 'interact': 16,\n",
              " 'computes': 9,\n",
              " 'jeapardy': 1,\n",
              " 'geobench': 1,\n",
              " 'talkin': 2,\n",
              " 'trimmings': 3,\n",
              " 'neuroticism': 1,\n",
              " 'lfz': 1,\n",
              " 'chants': 3,\n",
              " 'yeltsin': 9,\n",
              " 'cooled': 5,\n",
              " 'writable': 1,\n",
              " 'pressures': 17,\n",
              " 'nehemiah': 3,\n",
              " 'amenable': 4,\n",
              " 'singles': 6,\n",
              " 'invovled': 1,\n",
              " 'manifesto': 3,\n",
              " 'belived': 1,\n",
              " 'guitars': 3,\n",
              " 'youngblood': 5,\n",
              " 'electricity': 29,\n",
              " 'mhsr': 1,\n",
              " 'death': 370,\n",
              " 'jfinete': 2,\n",
              " 'catylitic': 1,\n",
              " 'salvation': 62,\n",
              " 'commercially': 20,\n",
              " 'dupes': 1,\n",
              " 'redmond': 6,\n",
              " 'adders': 1,\n",
              " 'drawer': 17,\n",
              " 'maintainability': 1,\n",
              " 'timees': 1,\n",
              " 'acclimated': 4,\n",
              " 'transistion': 2,\n",
              " 'diye': 1,\n",
              " 'lightening': 5,\n",
              " 'docklands': 1,\n",
              " 'lehr': 1,\n",
              " 'motos': 5,\n",
              " 'taurah': 2,\n",
              " 'arnet': 1,\n",
              " 'ererything': 2,\n",
              " 'hawe': 1,\n",
              " 'attrocities': 3,\n",
              " 'phills': 4,\n",
              " 'kmeariy': 1,\n",
              " 'roderick': 8,\n",
              " 'unclassified': 6,\n",
              " 'molecules': 16,\n",
              " 'clive': 12,\n",
              " 'zeal': 5,\n",
              " 'hhgg': 1,\n",
              " 'commanded': 21,\n",
              " 'twa': 1,\n",
              " 'mather': 1,\n",
              " 'geekies': 1,\n",
              " 'smashed': 7,\n",
              " 'yhd': 1,\n",
              " 'smythw': 2,\n",
              " 'propagandize': 3,\n",
              " 'fsu': 6,\n",
              " 'dsmith': 2,\n",
              " 'noems': 4,\n",
              " 'ljeizaw': 1,\n",
              " 'summarized': 8,\n",
              " 'explicitely': 1,\n",
              " 'famous': 83,\n",
              " 'returned': 111,\n",
              " 'bahavior': 4,\n",
              " 'mourn': 3,\n",
              " 'kettle': 1,\n",
              " 'deimos': 3,\n",
              " 'profile': 22,\n",
              " 'hymns': 2,\n",
              " 'kotfaq': 1,\n",
              " 'molesey': 1,\n",
              " 'frog': 20,\n",
              " 'discard': 8,\n",
              " 'hft': 1,\n",
              " 'humiliated': 10,\n",
              " 'bnn': 2,\n",
              " 'farmland': 3,\n",
              " 'assn': 2,\n",
              " 'kotp': 2,\n",
              " 'acn': 2,\n",
              " 'sway': 2,\n",
              " 'sonar': 1,\n",
              " 'attentive': 2,\n",
              " 'keyring': 2,\n",
              " 'heyeti': 1,\n",
              " 'track': 120,\n",
              " 'grapics': 1,\n",
              " 'forged': 6,\n",
              " 'ede': 1,\n",
              " 'estates': 1,\n",
              " 'acd': 1,\n",
              " 'atc': 5,\n",
              " 'processss': 1,\n",
              " 'deantha': 1,\n",
              " 'calm': 26,\n",
              " 'netbeui': 5,\n",
              " 'agrgument': 1,\n",
              " 'trueeffects': 1,\n",
              " 'servitutem': 1,\n",
              " 'irregardless': 1,\n",
              " 'impared': 1,\n",
              " 'megabyte': 14,\n",
              " 'erh': 1,\n",
              " 'nhtsa': 3,\n",
              " 'availabe': 2,\n",
              " 'nerve': 33,\n",
              " 'torsos': 1,\n",
              " 'fusioneer': 1,\n",
              " 'tails': 12,\n",
              " 'manuverable': 1,\n",
              " 'adjust': 39,\n",
              " 'xilinx': 2,\n",
              " 'harking': 1,\n",
              " 'crh': 3,\n",
              " 'efeustel': 1,\n",
              " 'villans': 1,\n",
              " 'mitsotakis': 2,\n",
              " 'logicless': 1,\n",
              " 'toxoplasmosis': 1,\n",
              " 'preforming': 1,\n",
              " 'xiconfiywindow': 1,\n",
              " 'xssr': 4,\n",
              " 'meck': 1,\n",
              " 'ox': 10,\n",
              " 'informatica': 6,\n",
              " 'ghct': 1,\n",
              " 'playful': 1,\n",
              " 'kirlian': 8,\n",
              " 'barbara': 24,\n",
              " 'stocki': 1,\n",
              " 'fdcxpuls': 1,\n",
              " 'coals': 2,\n",
              " 'les': 30,\n",
              " 'jecrc': 1,\n",
              " 'polytheism': 1,\n",
              " 'sugest': 1,\n",
              " 'lentil': 1,\n",
              " 'lev': 8,\n",
              " 'immobile': 2,\n",
              " 'intimidate': 11,\n",
              " 'paramter': 2,\n",
              " 'arming': 3,\n",
              " 'yarinlarin': 1,\n",
              " 'vmp': 1,\n",
              " 'experiencces': 2,\n",
              " 'etre': 1,\n",
              " 'unceasingly': 1,\n",
              " 'calcutta': 2,\n",
              " 'unreasonable': 35,\n",
              " 'surely': 135,\n",
              " 'esc': 14,\n",
              " 'syste': 1,\n",
              " 'beautiful': 66,\n",
              " 'sweepstakes': 3,\n",
              " 'terrifies': 1,\n",
              " 'dank': 2,\n",
              " 'bart': 9,\n",
              " 'brookhaven': 3,\n",
              " 'raveling': 2,\n",
              " 'kitabevi': 3,\n",
              " 'xzp': 1,\n",
              " 'nhuang': 1,\n",
              " 'riiiight': 1,\n",
              " 'amphibia': 1,\n",
              " 'poop': 1,\n",
              " 'subcompact': 1,\n",
              " 'takahashi': 1,\n",
              " 'aumann': 1,\n",
              " 'secure': 183,\n",
              " 'burder': 2,\n",
              " 'noss': 1,\n",
              " 'jregzhyyre': 2,\n",
              " 'markhof': 3,\n",
              " 'basa': 2,\n",
              " 'hijakk': 1,\n",
              " 'crimea': 1,\n",
              " 'gezisi': 1,\n",
              " 'oaksaselphia': 1,\n",
              " 'calculater': 1,\n",
              " 'loy': 1,\n",
              " 'gmtime': 2,\n",
              " 'homeowners': 1,\n",
              " 'litigate': 2,\n",
              " 'deacons': 4,\n",
              " 'pera': 10,\n",
              " 'indgil': 1,\n",
              " 'solving': 24,\n",
              " 'uuuurgh': 2,\n",
              " 'serena': 1,\n",
              " 'arethe': 1,\n",
              " 'wyman': 1,\n",
              " 'ciks': 1,\n",
              " 'sichase': 1,\n",
              " 'mockmma': 1,\n",
              " 'visibly': 4,\n",
              " 'mraz': 1,\n",
              " 'quantizer': 1,\n",
              " 'every': 1007,\n",
              " 'minimmize': 2,\n",
              " 'thon': 2,\n",
              " 'satcom': 1,\n",
              " 'haya': 7,\n",
              " 'leases': 2,\n",
              " 'gloom': 3,\n",
              " 'created': 261,\n",
              " 'reuben': 1,\n",
              " 'brunnhilde': 1,\n",
              " 'zrcisrchz': 1,\n",
              " 'offfffff': 1,\n",
              " 'algore': 1,\n",
              " 'expr': 1,\n",
              " 'separet': 1,\n",
              " 'door': 152,\n",
              " 'wnkretz': 4,\n",
              " 'propagators': 1,\n",
              " 'biding': 2,\n",
              " 'dmartinez': 1,\n",
              " 'escapism': 3,\n",
              " 'attendence': 1,\n",
              " 'haveing': 1,\n",
              " 'legislation': 49,\n",
              " 'gassanov': 1,\n",
              " 'meho': 1,\n",
              " 'cadigan': 1,\n",
              " 'buehler': 9,\n",
              " 'messianic': 9,\n",
              " 'pihkah': 1,\n",
              " 'isobar': 1,\n",
              " 'rlisv': 3,\n",
              " 'cshow': 4,\n",
              " 'tupolev': 1,\n",
              " 'stace': 1,\n",
              " 'blakey': 2,\n",
              " 'seanna': 8,\n",
              " 'guynn': 1,\n",
              " 'gills': 1,\n",
              " 'saku': 3,\n",
              " 'newest': 22,\n",
              " 'aspirin': 7,\n",
              " 'hosting': 5,\n",
              " 'heirarchs': 1,\n",
              " 'sharynk': 1,\n",
              " 'romulan': 2,\n",
              " 'regeneration': 3,\n",
              " 'srcptr': 1,\n",
              " 'lawmaster': 3,\n",
              " 'synagogue': 4,\n",
              " 'woring': 1,\n",
              " 'rupen': 1,\n",
              " 'ficc': 1,\n",
              " 'octavia': 2,\n",
              " 'silencers': 1,\n",
              " 'cryopreserving': 1,\n",
              " 'menahim': 1,\n",
              " 'chvrtd': 1,\n",
              " 'isc': 3,\n",
              " 'isles': 21,\n",
              " 'goer': 1,\n",
              " 'boschma': 1,\n",
              " 'bgn': 2,\n",
              " 'childbirth': 2,\n",
              " 'murillo': 1,\n",
              " 'unlabelled': 1,\n",
              " 'accoountable': 1,\n",
              " 'mmzvm': 1,\n",
              " 'presumed': 11,\n",
              " 'digitial': 3,\n",
              " 'ecpa': 1,\n",
              " 'holtzman': 3,\n",
              " 'madar': 1,\n",
              " 'cherkas': 2,\n",
              " 'elevating': 1,\n",
              " 'conscent': 1,\n",
              " 'deprived': 19,\n",
              " 'trove': 1,\n",
              " 'incongruity': 1,\n",
              " 'bparker': 2,\n",
              " 'equalled': 1,\n",
              " 'opthamology': 1,\n",
              " 'fluorescent': 10,\n",
              " 'shure': 1,\n",
              " 'jennifer': 6,\n",
              " 'rodriguez': 7,\n",
              " 'gulaksveien': 1,\n",
              " 'knoxville': 9,\n",
              " 'ahola': 5,\n",
              " 'curtin': 5,\n",
              " 'arcing': 3,\n",
              " 'balked': 4,\n",
              " 'melito': 1,\n",
              " 'laquey': 1,\n",
              " 'dnv': 4,\n",
              " 'majellan': 1,\n",
              " 'seas': 6,\n",
              " 'nibar': 1,\n",
              " 'backwards': 18,\n",
              " 'synergystic': 1,\n",
              " 'cstc': 1,\n",
              " 'mechwarrior': 1,\n",
              " 'screw': 75,\n",
              " 'bazian': 1,\n",
              " 'rhhlmjp': 1,\n",
              " 'pentiums': 1,\n",
              " 'scond': 1,\n",
              " 'icf': 1,\n",
              " 'bumpy': 6,\n",
              " 'upset': 54,\n",
              " 'shankar': 1,\n",
              " 'sincerely': 49,\n",
              " 'proabably': 1,\n",
              " 'borje': 2,\n",
              " 'straits': 4,\n",
              " 'ascention': 1,\n",
              " 'racicot': 3,\n",
              " 'rossiya': 1,\n",
              " 'vetical': 1,\n",
              " 'cmcs': 2,\n",
              " 'youngest': 4,\n",
              " 'endeth': 2,\n",
              " 'confuse': 31,\n",
              " 'intense': 29,\n",
              " 'compassion': 27,\n",
              " 'wte': 2,\n",
              " 'govrnment': 2,\n",
              " 'destrade': 2,\n",
              " 'ldmy': 1,\n",
              " 'benoeming': 1,\n",
              " 'resarch': 1,\n",
              " 'shenouda': 1,\n",
              " 'propositions': 3,\n",
              " 'couched': 3,\n",
              " 'ikjjhv': 1,\n",
              " 'unsealed': 7,\n",
              " 'crunched': 2,\n",
              " 'intervene': 18,\n",
              " 'smg': 1,\n",
              " 'korhiezer': 1,\n",
              " 'sellouts': 1,\n",
              " 'marven': 3,\n",
              " 'aunque': 1,\n",
              " 'fql': 3,\n",
              " 'derrick': 5,\n",
              " 'congessman': 1,\n",
              " 'unhappiness': 2,\n",
              " 'declaimed': 2,\n",
              " 'loud': 47,\n",
              " 'facinating': 5,\n",
              " 'fujitsu': 13,\n",
              " 'xsetwmhints': 1,\n",
              " 'zowie': 5,\n",
              " 'audience': 43,\n",
              " ...}"
            ]
          },
          "execution_count": 26,
          "metadata": {},
          "output_type": "execute_result"
        }
      ],
      "source": [
        "# Create a dictionary containing the frequency of words utilizing the 'frequency_dict' function\n",
        "\n",
        "# Expect this chunk to take a comparatively longer time to execute since our dataset is large\n",
        "\n",
        "freq_word = frequency_dict(lines,word_list)\n",
        "\n",
        "freq_word"
      ]
    },
    {
      "cell_type": "code",
      "execution_count": null,
      "metadata": {
        "id": "vLvPijR_GKHn"
      },
      "outputs": [],
      "source": [
        "# Create a function to calculate the Term Frequency\n",
        "\n",
        "def term_frequency(document, word):\n",
        "    '''\n",
        "    document: list containing the entire corpus\n",
        "    word: word whose term frequency is to be calculated\n",
        "    ---\n",
        "    tf: returns term frequency value\n",
        "    '''\n",
        "    n = len(document)\n",
        "    occurances = document.count(word)\n",
        "    tf = occurances / n\n",
        "    \n",
        "    return tf"
      ]
    },
    {
      "cell_type": "code",
      "execution_count": null,
      "metadata": {
        "id": "HA99G_yAGLCC"
      },
      "outputs": [],
      "source": [
        "# Create a function to calculate the Inverse Document Frequency\n",
        " \n",
        "def inverse_df(word):\n",
        "    '''\n",
        "    word: word whose inverse document frequency is to be calculated\n",
        "    ---\n",
        "    idf: return inverse document frequency value\n",
        "    '''\n",
        "    n = len(lines)\n",
        "\n",
        "    idf =  np.log((1+ n) / freq_word[word] + 1)\n",
        "    return idf"
      ]
    },
    {
      "cell_type": "code",
      "execution_count": null,
      "metadata": {
        "id": "F0irgwv2GRfE"
      },
      "outputs": [],
      "source": [
        "#Create a function to combine the term frequencies (TF) and inverse document (IDF) frequencies calculated above to get TF-IDF\n",
        "\n",
        "def tfidf(sentence,dict_idx):\n",
        "    '''\n",
        "    sentence: list containing the entire corpus\n",
        "    dict: dictionary keeping track of index of each word\n",
        "    ---\n",
        "    tf_idf_vec: returns computed tf-idf\n",
        "    '''\n",
        "    tf_idf_vector = [0] * len(dict_idx)\n",
        "    for word in sentence:\n",
        "      tf_idf_vector[dict_idx[word]] = term_frequency(sentence, word) * inverse_df(word)\n",
        "    return tf_idf_vector"
      ]
    },
    {
      "cell_type": "code",
      "execution_count": null,
      "metadata": {
        "id": "_VKJhqatGWpV"
      },
      "outputs": [],
      "source": [
        "#Compute the vectors utilizing the 'tfidf' function created above to obtain a TF-IDF Encoded text corpus\n",
        "tfidf_vector = []\n",
        "for line in lines:\n",
        "  tfidf_vector.append(tfidf(line, dict_idx))"
      ]
    },
    {
      "cell_type": "markdown",
      "metadata": {
        "id": "LE0UGUaSGb8I"
      },
      "source": [
        "## Multinomial Naive Bayes (10 Points)"
      ]
    },
    {
      "cell_type": "code",
      "execution_count": null,
      "metadata": {
        "id": "yWYcxrdJGfDC",
        "outputId": "0ef05d43-5df8-449e-deb2-4051f7ee9f99"
      },
      "outputs": [
        {
          "data": {
            "text/html": [
              "<style>#sk-container-id-1 {color: black;background-color: white;}#sk-container-id-1 pre{padding: 0;}#sk-container-id-1 div.sk-toggleable {background-color: white;}#sk-container-id-1 label.sk-toggleable__label {cursor: pointer;display: block;width: 100%;margin-bottom: 0;padding: 0.3em;box-sizing: border-box;text-align: center;}#sk-container-id-1 label.sk-toggleable__label-arrow:before {content: \"▸\";float: left;margin-right: 0.25em;color: #696969;}#sk-container-id-1 label.sk-toggleable__label-arrow:hover:before {color: black;}#sk-container-id-1 div.sk-estimator:hover label.sk-toggleable__label-arrow:before {color: black;}#sk-container-id-1 div.sk-toggleable__content {max-height: 0;max-width: 0;overflow: hidden;text-align: left;background-color: #f0f8ff;}#sk-container-id-1 div.sk-toggleable__content pre {margin: 0.2em;color: black;border-radius: 0.25em;background-color: #f0f8ff;}#sk-container-id-1 input.sk-toggleable__control:checked~div.sk-toggleable__content {max-height: 200px;max-width: 100%;overflow: auto;}#sk-container-id-1 input.sk-toggleable__control:checked~label.sk-toggleable__label-arrow:before {content: \"▾\";}#sk-container-id-1 div.sk-estimator input.sk-toggleable__control:checked~label.sk-toggleable__label {background-color: #d4ebff;}#sk-container-id-1 div.sk-label input.sk-toggleable__control:checked~label.sk-toggleable__label {background-color: #d4ebff;}#sk-container-id-1 input.sk-hidden--visually {border: 0;clip: rect(1px 1px 1px 1px);clip: rect(1px, 1px, 1px, 1px);height: 1px;margin: -1px;overflow: hidden;padding: 0;position: absolute;width: 1px;}#sk-container-id-1 div.sk-estimator {font-family: monospace;background-color: #f0f8ff;border: 1px dotted black;border-radius: 0.25em;box-sizing: border-box;margin-bottom: 0.5em;}#sk-container-id-1 div.sk-estimator:hover {background-color: #d4ebff;}#sk-container-id-1 div.sk-parallel-item::after {content: \"\";width: 100%;border-bottom: 1px solid gray;flex-grow: 1;}#sk-container-id-1 div.sk-label:hover label.sk-toggleable__label {background-color: #d4ebff;}#sk-container-id-1 div.sk-serial::before {content: \"\";position: absolute;border-left: 1px solid gray;box-sizing: border-box;top: 0;bottom: 0;left: 50%;z-index: 0;}#sk-container-id-1 div.sk-serial {display: flex;flex-direction: column;align-items: center;background-color: white;padding-right: 0.2em;padding-left: 0.2em;position: relative;}#sk-container-id-1 div.sk-item {position: relative;z-index: 1;}#sk-container-id-1 div.sk-parallel {display: flex;align-items: stretch;justify-content: center;background-color: white;position: relative;}#sk-container-id-1 div.sk-item::before, #sk-container-id-1 div.sk-parallel-item::before {content: \"\";position: absolute;border-left: 1px solid gray;box-sizing: border-box;top: 0;bottom: 0;left: 50%;z-index: -1;}#sk-container-id-1 div.sk-parallel-item {display: flex;flex-direction: column;z-index: 1;position: relative;background-color: white;}#sk-container-id-1 div.sk-parallel-item:first-child::after {align-self: flex-end;width: 50%;}#sk-container-id-1 div.sk-parallel-item:last-child::after {align-self: flex-start;width: 50%;}#sk-container-id-1 div.sk-parallel-item:only-child::after {width: 0;}#sk-container-id-1 div.sk-dashed-wrapped {border: 1px dashed gray;margin: 0 0.4em 0.5em 0.4em;box-sizing: border-box;padding-bottom: 0.4em;background-color: white;}#sk-container-id-1 div.sk-label label {font-family: monospace;font-weight: bold;display: inline-block;line-height: 1.2em;}#sk-container-id-1 div.sk-label-container {text-align: center;}#sk-container-id-1 div.sk-container {/* jupyter's `normalize.less` sets `[hidden] { display: none; }` but bootstrap.min.css set `[hidden] { display: none !important; }` so we also need the `!important` here to be able to override the default hidden behavior on the sphinx rendered scikit-learn.org. See: https://github.com/scikit-learn/scikit-learn/issues/21755 */display: inline-block !important;position: relative;}#sk-container-id-1 div.sk-text-repr-fallback {display: none;}</style><div id=\"sk-container-id-1\" class=\"sk-top-container\"><div class=\"sk-text-repr-fallback\"><pre>MultinomialNB(alpha=0.0005)</pre><b>In a Jupyter environment, please rerun this cell to show the HTML representation or trust the notebook. <br />On GitHub, the HTML representation is unable to render, please try loading this page with nbviewer.org.</b></div><div class=\"sk-container\" hidden><div class=\"sk-item\"><div class=\"sk-estimator sk-toggleable\"><input class=\"sk-toggleable__control sk-hidden--visually\" id=\"sk-estimator-id-1\" type=\"checkbox\" checked><label for=\"sk-estimator-id-1\" class=\"sk-toggleable__label sk-toggleable__label-arrow\">MultinomialNB</label><div class=\"sk-toggleable__content\"><pre>MultinomialNB(alpha=0.0005)</pre></div></div></div></div></div>"
            ],
            "text/plain": [
              "MultinomialNB(alpha=0.0005)"
            ]
          },
          "execution_count": 32,
          "metadata": {},
          "output_type": "execute_result"
        }
      ],
      "source": [
        "#Fit a Multinomial Naive Bayes Model on our dataset\n",
        "\n",
        "model = MultinomialNB(alpha=0.0005)\n",
        "model.fit(tfidf_vector, mydata_train.target)"
      ]
    },
    {
      "cell_type": "code",
      "execution_count": null,
      "metadata": {
        "id": "G6CiQB4qGfqH"
      },
      "outputs": [],
      "source": [
        "#Perform testing on the train dataset\n",
        "\n",
        "pred = model.predict(tfidf_vector)"
      ]
    },
    {
      "cell_type": "code",
      "execution_count": null,
      "metadata": {
        "id": "yCLagGu6Gh6T",
        "outputId": "261f69ca-0cc9-428b-f424-11361ba09e26"
      },
      "outputs": [
        {
          "name": "stdout",
          "output_type": "stream",
          "text": [
            "F1 Score:  0.9981439896534203\n",
            "Accuracy:  0.9981438925225384\n"
          ]
        }
      ],
      "source": [
        "#Calculate the F1 Score and the Accuracy\n",
        "\n",
        "F1_score = f1_score(mydata_train.target, pred, average='weighted')\n",
        "Accuracy = accuracy_score(mydata_train.target, pred)\n",
        "print(\"F1 Score: \", F1_score)\n",
        "print(\"Accuracy: \", Accuracy)"
      ]
    },
    {
      "cell_type": "markdown",
      "metadata": {
        "id": "bbMRqJv5Gl2F"
      },
      "source": [
        "### Expected Output:\n",
        "F1 Score: 0.9533633964397735\n",
        "\n",
        "Accuracy: 0.9524482941488421"
      ]
    },
    {
      "cell_type": "markdown",
      "metadata": {
        "id": "AWRDuUqU-taV"
      },
      "source": [
        "Your accuracy does not have to be exactly the same. This is just to give you an estimate of what could you expect your accuracy to be around."
      ]
    },
    {
      "cell_type": "markdown",
      "metadata": {
        "id": "UfMc8cz93Cc0"
      },
      "source": [
        "## Question 2 Vector Visualization"
      ]
    },
    {
      "cell_type": "markdown",
      "metadata": {
        "id": "70iwEeL23F7K"
      },
      "source": [
        "In this unsupervised learning task we are going to cluster wikipedia articles into groups using T-SNE visualization after vectorization."
      ]
    },
    {
      "cell_type": "markdown",
      "metadata": {
        "id": "UHx4YuxW36oM"
      },
      "source": [
        "### Collect articles from Wikipedia (10 points)\n",
        "\n",
        "In this section we will download articles from wikipedia and then vectorize them in the next step. You can select somewhat related topics or fetch the articles randomly. \n",
        "(Use dir() and help() functions or refer wikipedia documentation)\n",
        "You may also pick any other data source of your choice instead of wikipedia."
      ]
    },
    {
      "cell_type": "code",
      "execution_count": null,
      "metadata": {
        "id": "jA419x6__mjg",
        "outputId": "4324138d-5fd8-4cdc-d6fc-0bacaa6d44ad"
      },
      "outputs": [
        {
          "name": "stdout",
          "output_type": "stream",
          "text": [
            "Requirement already satisfied: wikipedia in /Users/nikhilg/opt/anaconda3/lib/python3.9/site-packages (1.4.0)\n",
            "Requirement already satisfied: beautifulsoup4 in /Users/nikhilg/opt/anaconda3/lib/python3.9/site-packages (from wikipedia) (4.11.1)\n",
            "Requirement already satisfied: requests<3.0.0,>=2.0.0 in /Users/nikhilg/opt/anaconda3/lib/python3.9/site-packages (from wikipedia) (2.27.1)\n",
            "Requirement already satisfied: urllib3<1.27,>=1.21.1 in /Users/nikhilg/opt/anaconda3/lib/python3.9/site-packages (from requests<3.0.0,>=2.0.0->wikipedia) (1.26.9)\n",
            "Requirement already satisfied: idna<4,>=2.5 in /Users/nikhilg/opt/anaconda3/lib/python3.9/site-packages (from requests<3.0.0,>=2.0.0->wikipedia) (3.3)\n",
            "Requirement already satisfied: charset-normalizer~=2.0.0 in /Users/nikhilg/opt/anaconda3/lib/python3.9/site-packages (from requests<3.0.0,>=2.0.0->wikipedia) (2.0.4)\n",
            "Requirement already satisfied: certifi>=2017.4.17 in /Users/nikhilg/opt/anaconda3/lib/python3.9/site-packages (from requests<3.0.0,>=2.0.0->wikipedia) (2021.10.8)\n",
            "Requirement already satisfied: soupsieve>1.2 in /Users/nikhilg/opt/anaconda3/lib/python3.9/site-packages (from beautifulsoup4->wikipedia) (2.3.1)\n",
            "Note: you may need to restart the kernel to use updated packages.\n"
          ]
        }
      ],
      "source": [
        "# install libraries\n",
        "%pip install wikipedia"
      ]
    },
    {
      "cell_type": "code",
      "execution_count": null,
      "metadata": {
        "id": "vLMLk4K84Zbn",
        "outputId": "7624450a-1b60-468e-ebe9-c2ef1617018d"
      },
      "outputs": [
        {
          "name": "stderr",
          "output_type": "stream",
          "text": [
            "[nltk_data] Downloading package punkt to /Users/nikhilg/nltk_data...\n",
            "[nltk_data]   Package punkt is already up-to-date!\n",
            "[nltk_data] Downloading package stopwords to\n",
            "[nltk_data]     /Users/nikhilg/nltk_data...\n",
            "[nltk_data]   Package stopwords is already up-to-date!\n",
            "[nltk_data] Downloading package wordnet to /Users/nikhilg/nltk_data...\n",
            "[nltk_data]   Package wordnet is already up-to-date!\n",
            "[nltk_data] Downloading package omw-1.4 to /Users/nikhilg/nltk_data...\n",
            "[nltk_data]   Package omw-1.4 is already up-to-date!\n"
          ]
        },
        {
          "data": {
            "text/plain": [
              "['Northeastern University (NU or NEU) is a private research university with its main campus in Boston. Established in 1898, the university offers undergraduate and graduate programs on its main campus as well as satellite campuses in Charlotte, North Carolina; Seattle, Washington; San Jose, California; Oakland, California;  Portland, Maine; and Toronto and Vancouver in Canada. In 2019, Northeastern purchased the New College of the Humanities in London, England. The university\\'s enrollment is approximately 19,000 undergraduate students and 8,600 graduate students. It is classified among \"R1: Doctoral Universities – Very high research activity\". Northeastern faculty and alumni include Nobel Prize laureates, Rhodes, Truman, and Marshall scholars. Undergraduate admission to the university is categorized as \"most selective.\"Northeastern features a cooperative education program, more commonly known as \"co-op,\" that integrates classroom study with professional experience and includes over 3,100 partners across all seven continents. The program has been a key part of Northeastern\\'s curriculum of experiential learning for more than a hundred years and is one of the largest co-op/internship programs in the world. While not required for all academic disciplines, participation is nearly universal among undergraduate students. Northeastern also has a comprehensive study abroad program that spans more than 170 universities and colleges.Northeastern is a large, highly residential university. Most undergraduate students choose to live on campus but third-years and above have the option to live off campus. Seventy-eight percent of Northeastern students receive some form of financial aid. In the 2020–21 school year, the university has committed $355 million in grant and scholarship assistance. In 2019, Northeastern\\'s six-year graduation rate was 89 percent.\\nThe university\\'s sports teams, the Northeastern Huskies, compete in NCAA Division I as members of the Colonial Athletic Association (CAA) in 18 varsity sports. The men\\'s and women\\'s hockey teams compete in Hockey East, while the men\\'s and women\\'s rowing teams compete in the Eastern Association of Rowing Colleges (EARC) and Eastern Association of Women\\'s Rowing Colleges (EAWRC), respectively. Men\\'s Track and Field has won the CAA back to back years in 2015 and 2016. In 2013, men\\'s basketball won its first CAA regular season championship, men\\'s soccer won the CAA title for the first time, and women\\'s ice hockey won a record 16th Beanpot championship. The Northeastern men\\'s hockey team won the 2018, 2019, and 2020 Beanpot, defeating Boston University, Boston College, and Harvard.',\n",
              " 'Quantum machine learning is the integration of quantum algorithms within machine learning programs. The most common use of the term refers to machine learning algorithms for the analysis of classical data executed on a quantum computer, i.e. quantum-enhanced machine learning. While machine learning algorithms are used to compute immense quantities of data, quantum machine learning utilizes qubits and quantum operations or specialized quantum systems to improve computational speed and data storage done by algorithms in a program. This includes hybrid methods that involve both classical and quantum processing, where computationally difficult subroutines are outsourced to a quantum device. These routines can be more complex in nature and executed faster on a quantum computer. Furthermore, quantum algorithms can be used to analyze quantum states instead of classical data. Beyond quantum computing, the term \"quantum machine learning\" is also associated with classical machine learning methods applied to data generated from quantum experiments (i.e. machine learning of quantum systems), such as learning the phase transitions of a quantum system or creating new quantum experiments. Quantum machine learning also extends to a branch of research that explores methodological and structural similarities between certain physical systems and learning systems, in particular neural networks. For example, some mathematical and numerical techniques from quantum physics are applicable to classical deep learning and vice versa. Furthermore, researchers investigate more abstract notions of learning theory with respect to quantum information, sometimes referred to as \"quantum learning theory\".\\n\\n',\n",
              " 'Natural language processing (NLP) is a subfield of linguistics, computer science, and artificial intelligence concerned with the interactions between computers and human language, in particular how to program computers to process and analyze large amounts of natural language data.  The goal is a computer capable of \"understanding\" the contents of documents, including the contextual nuances of the language within them. The technology can then accurately extract information and insights contained in the documents as well as categorize and organize the documents themselves.\\nChallenges in natural language processing frequently involve speech recognition, natural-language understanding, and natural-language generation.',\n",
              " 'A Master of Science in Data Science is an interdisciplinary degree program designed to provide studies in scientific methods, processes, and systems to extract knowledge or insights from data in various forms, either structured or unstructured, similar to data mining.',\n",
              " 'Artificial intelligence (AI) is intelligence demonstrated by machines, as opposed to the natural intelligence displayed by animals including humans. AI research has been defined as the field of study of intelligent agents, which refers to any system that perceives its environment and takes actions that maximize its chance of achieving its goals.The term \"artificial intelligence\" had previously been used to describe machines that mimic and display \"human\" cognitive skills that are associated with the human mind, such as \"learning\" and \"problem-solving\". This definition has since been rejected by major AI researchers who now describe AI in terms of rationality and acting rationally, which does not limit how intelligence can be articulated.AI applications include advanced web search engines (e.g., Google), recommendation systems (used by YouTube, Amazon and Netflix), understanding human speech (such as Siri and Alexa), self-driving cars (e.g., Tesla), automated decision-making and competing at the highest level in strategic game systems (such as chess and Go).\\nAs machines become increasingly capable, tasks considered to require \"intelligence\" are often removed from the definition of AI, a phenomenon known as the AI effect. For instance, optical character recognition is frequently excluded from things considered to be AI, having become a routine technology.Artificial intelligence was founded as an academic discipline in 1956, and in the years since has experienced several waves of optimism, followed by disappointment and the loss of funding (known as an \"AI winter\"), followed by new approaches, success and renewed funding. AI research has tried and discarded many different approaches since its founding, including simulating the brain, modeling human problem solving, formal logic, large databases of knowledge and imitating animal behavior. In the first decades of the 21st century, highly mathematical-statistical machine learning has dominated the field, and this technique has proved highly successful, helping to solve many challenging problems throughout industry and academia.The various sub-fields of AI research are centered around particular goals and the use of particular tools. The traditional goals of AI research include reasoning, knowledge representation, planning, learning, natural language processing, perception, and the ability to move and manipulate objects. General intelligence (the ability to solve an arbitrary problem) is among the field\\'s long-term goals. To solve these problems, AI researchers have adapted and integrated a wide range of problem-solving techniques—including search and mathematical optimization, formal logic, artificial neural networks, and methods based on statistics, probability and economics. AI also draws upon computer science, psychology, linguistics, philosophy, and many other fields.\\nThe field was founded on the assumption that human intelligence \"can be so precisely described that a machine can be made to simulate it\".\\nThis raised philosophical arguments about the mind and the ethical consequences of creating artificial beings endowed with human-like intelligence; these issues have previously been explored by myth, fiction and philosophy since antiquity. Science fiction writers and futurologists have since suggested that AI may become an existential risk to humanity if its rational capacities are not overseen.',\n",
              " 'Data science is an interdisciplinary field that uses scientific methods, processes, algorithms and systems to extract knowledge and insights from noisy, structured and unstructured data, and apply knowledge from data across a broad range of application domains. Data science is related to data mining, machine learning and big data.\\nData science is a \"concept to unify statistics, data analysis, informatics, and their related methods\" in order to \"understand and analyse actual phenomena\" with data. It uses techniques and theories drawn from many fields within the context of mathematics, statistics, computer science, information science, and domain knowledge. However, data science is different from computer science and information science. Turing Award winner Jim Gray imagined data science as a \"fourth paradigm\" of science (empirical, theoretical, computational, and now data-driven) and asserted that \"everything about science is changing because of the impact of information technology\" and the data deluge.A data scientist is someone who creates programming code and combines it with statistical knowledge to create insights from data.\\n\\n',\n",
              " 'The International Monetary Fund (IMF) is an international financial institution, headquartered in Washington, D.C., consisting of 190 countries. Its stated mission is \"working to foster global monetary cooperation, secure financial stability, facilitate international trade, promote high employment and sustainable economic growth, and reduce poverty around the world.\" Formed in 1944, started on 27 December 1945, at the Bretton Woods Conference primarily by the ideas of Harry Dexter White and John Maynard Keynes, it came into formal existence in 1945 with 29 member countries and the goal of reconstructing the international monetary system. It now plays a central role in the management of balance of payments difficulties and international financial crises. Countries contribute funds to a pool through a quota system from which countries experiencing balance of payments problems can borrow money. As of 2016, the fund had XDR 477 billion (about US$667 billion).Through the fund and other activities such as the gathering of statistics and analysis, surveillance of its members\\' economies, and the demand for particular policies, the IMF works to improve the economies of its member countries. The organization\\'s objectives stated in the Articles of Agreement are: to promote international monetary co-operation, international trade, high employment, exchange-rate stability, sustainable economic growth, and making resources available to member countries in financial difficulty. IMF funds come from two major sources: quotas and loans. Quotas, which are pooled funds of member nations, generate most IMF funds. The size of a member\\'s quota depends on its economic and financial importance in the world. Nations with greater economic significance have larger quotas. The quotas are increased periodically as a means of boosting the IMF\\'s resources in the form of special drawing rights.The current managing director (MD) and Chairwoman of the IMF is Bulgarian economist Kristalina Georgieva, who has held the post since October 1, 2019. Indian-American economist Gita Gopinath, who previously served as Chief Economist, was appointed as First Deputy Managing Director, effective January 21, 2022. Pierre-Olivier Gourinchas replaced Gopinath as Chief Economist on January 24, 2022.',\n",
              " \"The European Central Bank (ECB) is the prime component of the Eurosystem and the European System of Central Banks (ESCB) as well as one of seven institutions of the European Union. It is one of the world's most important central banks.\\nThe ECB Governing Council makes monetary policy for the Eurozone and the European Union, administers the foreign exchange reserves of EU member states, engages in foreign exchange operations, and defines the intermediate monetary objectives and key interest rate of the EU. The ECB Executive Board enforces the policies and decisions of the Governing Council, and may direct the national central banks when doing so. The ECB has the exclusive right to authorise the issuance of euro banknotes. Member states can issue euro coins, but the volume must be approved by the ECB beforehand. The bank also operates the TARGET2 payments system.\\nThe ECB was established by the Treaty of Amsterdam in May 1999 with the purpose of guaranteeing and maintaining price stability. On 1 December 2009, the Treaty of Lisbon became effective and the bank gained the official status of an EU institution. When the ECB was created, it covered a Eurozone of eleven members. Since then, Greece joined in January 2001, Slovenia in January 2007, Cyprus and Malta in January 2008, Slovakia in January 2009, Estonia in January 2011, Latvia in January 2014 and Lithuania in January 2015. The current President of the ECB is Christine Lagarde. Headquartered in Frankfurt, Germany, the bank formerly occupied the Eurotower prior to the construction of its new seat.\\nThe ECB is directly governed by European Union law. Its capital stock, worth €11 billion, is owned by all 27 central banks of the EU member states as shareholders. The initial capital allocation key was determined in 1998 on the basis of the states' population and GDP, but the capital key has been readjusted since. Shares in the ECB are not transferable and cannot be used as collateral.\",\n",
              " 'Financial technology (abbreviated fintech or FinTech) is the technology and innovation that aims to compete with traditional financial methods in the delivery of financial services. Artificial intelligence, Blockchain, Cloud computing, and big Data are regarded as the \"ABCD\" (four key areas) of FinTech. The Fintech industry is an emerging industry that uses technology to improve activities in finance. The use of smartphones for mobile banking, investing, borrowing services, and cryptocurrency are examples of technologies aiming to make financial services more accessible to the general public. Financial technology companies consist of both startups and established financial institutions and technology companies trying to replace or enhance the usage of financial services provided by existing financial companies. A subset of fintech companies that focus on the insurance industry are collectively known as insurtech or insuretech companies.',\n",
              " 'Swimming is the self-propulsion of a person through water, or other liquid, usually for recreation, sport, exercise, or survival.  Locomotion is achieved through coordinated movement of the limbs and the body to achieve hydrodynamic thrust which results in directional motion. Humans can hold their breath underwater and undertake rudimentary locomotive swimming within weeks of birth, as a survival response.Swimming is consistently among the top public recreational activities, and in some countries, swimming lessons are a compulsory part of the educational curriculum.  As a formalized sport, swimming is featured in a range of local, national, and international competitions, including every modern Summer Olympics.\\nSwimming involves repeated motions known as strokes in order to propel the body forward. While the front crawl is widely regarded as the fastest out of four primary strokes, other strokes are practiced for special purposes, such as for training.\\nThere are various risks present during swimming, mainly due to it taking place in water. Swimmers are at risk of incapacitation due to panic and exhaustion, which may cause death due to drowning. Other dangers include getting an infection or contact with hostile aquatic fauna. To minimize these risks, most facilities employ a lifeguard to look for signs of distress.\\nWhile some people elect to be nude, oftentimes swimmers either wear their day attire (which can be impractical or outright dangerous), or wear specialized swimwear. In addition to this, a variety of equipment can be used to enhance the swimming experience or performance, including, but not limited to the use of swimming goggles, floatation devices, swim fins, and snorkels.',\n",
              " 'Baseball is a bat-and-ball game played between two opposing teams, of nine players each, that take turns batting and fielding. The game proceeds when a player on the fielding team, called the pitcher, throws a ball that a player on the batting team tries to hit with a bat. The objective of the offensive team (batting team) is to hit the ball into the field of play and away from the other team\\'s players, allowing its players to run the bases, having them advance counter-clockwise around four bases to score what are called \"runs\". The objective of the defensive team (fielding team) is to prevent batters from becoming runners, and to prevent runners\\' advance around the bases. A run is scored when a runner legally advances around the bases in order and touches home plate (the place where the player started as a batter). The team that scores the most runs by the end of the game is the winner.\\nThe first objective of the batting team is to have a player reach first base safely; this generally occurs either when the batter reaches first base before an opponent holding the ball touches the base, or when the pitcher persists in throwing the ball out of the batter\\'s reach. A player on the batting team who reaches first base without being called \"out\" can attempt to advance to subsequent bases as a runner, either immediately or during teammates\\' turns batting. The fielding team tries to prevent runs by getting batters or runners \"out\", which forces them out of the field of play. Both the pitcher and fielders have methods of getting the batting team\\'s players out. The opposing teams switch back and forth between batting and fielding; the batting team\\'s turn to bat is over once the fielding team records three outs. One turn batting for each team constitutes an inning. A game is usually composed of nine innings, and the team with the greater number of runs at the end of the game wins. If scores are tied at the end of nine innings, extra innings are usually played. Baseball has no game clock, although most games end in the ninth inning.\\nBaseball evolved from older bat-and-ball games already being played in England by the mid-18th century. This game was brought by immigrants to North America, where the modern version developed. By the late 19th century, baseball was widely recognized as the national sport of the United States. Baseball is popular in North America and parts of Central and South America, the Caribbean, and East Asia, particularly in Japan, South Korea, and Taiwan.\\nIn the United States and Canada, professional Major League Baseball (MLB) teams are divided into the National League (NL) and American League (AL), each with three divisions: East, West, and Central. The MLB champion is determined by playoffs that culminate in the World Series. The top level of play is similarly split in Japan between the Central and Pacific Leagues and in Cuba between the West League and East League. The World Baseball Classic, organized by the World Baseball Softball Confederation, is the major international competition of the sport and attracts the top national teams from around the world.',\n",
              " 'Football is a family of team sports that involve, to varying degrees, kicking a ball to score a goal.  Unqualified, the word football normally means the form of football that is the most popular where the word is used. Sports commonly called football include association football (known as soccer in North America and Oceania); gridiron football (specifically American football or Canadian football); Australian rules football; rugby union and rugby league; and Gaelic football. These various forms of football share to varying extent common origins and are known as football codes.\\nThere are a number of references to traditional, ancient, or prehistoric ball games played in many different parts of the world. Contemporary codes of football can be traced back to the codification of these games at English public schools during the 19th century. The expansion and cultural influence of the British Empire allowed these rules of football to spread to areas of British influence outside the directly controlled Empire.  By the end of the 19th century, distinct regional codes were already developing: Gaelic football, for example, deliberately incorporated the rules of local traditional football games in order to maintain their heritage.  In 1888, The Football League was founded in England, becoming the first of many professional football associations. During the 20th century, several of the various kinds of football grew to become some of the most popular team sports in the world.',\n",
              " \"College football is gridiron football consisting of American football played by teams of student athletes fielded by American universities, colleges, and military academies, or Canadian football played by teams of student athletes fielded by Canadian universities. It was through college football play that American football rules first gained popularity in the United States.\\nUnlike most other sports in North America, no official minor league farm organizations exist in American or Canadian football. Therefore, college football is generally considered to be the second tier of American football in the United States and Canadian football in Canada; one step ahead of high school competition, and one step below professional competition. However, in some areas of the country, the South and the Midwest, college football is far more popular than professional football, and for much of the early 20th century, college football was seen as more prestigious than professional football.\\nA player's performance in college football directly impacts his chances of playing professional football. The best collegiate players will typically declare for the professional draft after three to four years of collegiate competition, with the NFL holding its annual NFL draft every spring in which 256 players are selected annually. Those not selected can still attempt to land an NFL roster spot as an undrafted free agent.\",\n",
              " \"Association football, more commonly known as simply football or soccer, is a team sport that is played between two teams of 11 players using a spherical ball. It is played by approximately 250 million players in over 200 countries and dependencies, making it the world's most popular sport to date. The game is played on a rectangular field called a pitch with a goal at each end. The objective of the game is to score more goals than the opposition by moving the ball beyond the goal line into the opposing goal within a time frame of 90 minutes or more.\\nFootball is played in accordance with a set of rules known as the Laws of the Game. The ball is 68–70 cm (27–28 in) in circumference and known as the football. The two teams compete to get the ball into the other team's goal (between the posts and under the bar), thereby scoring a goal. Players are not allowed to touch the ball with hands or arms while it is in play, except for the goalkeepers within the penalty area. Players may use any other part of their body to strike or pass the ball and mainly use their feet. The team that has scored more goals at the end of the game is the winner; if both teams have scored an equal number of goals, either a draw is declared or the game goes into extra time or a penalty shootout, depending on the format of the competition. Each team is led by a captain who has only one official responsibility as mandated by the Laws of the Game: to represent their team in the coin toss before kick-off or penalty kicks.Football is governed internationally by the International Federation of Association Football (FIFA; French: Fédération Internationale de Football Association), which organises World Cups for men and women every four years. The men's FIFA World Cup has taken place every four years since 1930, with the exception of 1942 and 1946 tournaments, which were cancelled due to World War II. Approximately 190–200 national teams compete in qualifying tournaments within the scope of continental confederations for a place in the finals. The finals tournament is held every four years and involves 32 national teams competing over four weeks. It is the most prestigious men's football tournament in the world, and the most widely viewed and followed sporting event in the world, exceeding the Olympic Games. Similarly, the FIFA Women's World Cup has been played every four years since 1991, though football has been played by women since it has existed. A record-breaking 1.12 billion viewers watched the 2019 FIFA Women's World Cup in France.The most prestigious competitions in European club football are the UEFA Champions League and UEFA Women's Champions League, which attract an extensive television audience throughout the world. The final of the men's tournament has been, in recent years, the most-watched annual sporting event in the world. The top five European men's leagues are the Premier League (England), La Liga (Spain), Bundesliga (Germany), Serie A (Italy), and Ligue 1 (France). Attracting most of the world's best players, each of the leagues has a total wage cost in excess of £600 million/€763 million/US$1.185 billion.\"]"
            ]
          },
          "execution_count": 34,
          "metadata": {},
          "output_type": "execute_result"
        }
      ],
      "source": [
        "import wikipedia\n",
        "import numpy as np\n",
        "import sklearn\n",
        "from wikipedia.exceptions import WikipediaException\n",
        "import ssl\n",
        "from nltk.corpus import stopwords\n",
        "from nltk.stem import WordNetLemmatizer\n",
        "import nltk\n",
        "import pandas as pd\n",
        "from sklearn.naive_bayes import MultinomialNB\n",
        "from sklearn import metrics\n",
        "from sklearn.metrics import f1_score\n",
        "from sklearn.metrics import accuracy_score\n",
        "nltk.download('punkt')\n",
        "nltk.download('stopwords')\n",
        "nltk.download('wordnet')\n",
        "nltk.download('omw-1.4')\n",
        "'''\n",
        " Generate a list of wikipedia article to cluster \n",
        " You can maintain a static list of titles or generate them randomly using wikipedia library\n",
        " Some topics include:\n",
        " [\"Northeastern Unversity\", \"Natural language processing\", \"Machine learning\", \"Quantum machine learning\", \"Artificial intelligence\", \"Data science\", \"Master in Data Science\", \n",
        " \"Bank of America\", \"Visa Inc.\", \"European Central Bank\", \"Bank\", \"Financial technology\",\"International Monetary Fund\", \n",
        " \"Basketball\", \"Swimming\", \"Tennis\", \"Football\", \"College Football\", \"Association Football\"]\n",
        "\n",
        " You can add more topics from different categories so that we have a diverse dataset to work with. \n",
        " Ex- About 3+ categories(groups), 3+ topics in each category, 3+ articles in each topic\n",
        "'''\n",
        "\n",
        "# selected topics\n",
        "# topics = [\"Northeastern Unversity\", \"Natural language processing\", \"Machine learning\", \"Quantum machine learning\", \"Artificial intelligence\", \"Data science\"]\n",
        "# list of articles to be downloaded\n",
        "articles = [\"Northeastern Unversity\", \"Quantum machine learning\", \"Natural language processing\", \"Master in Data Science\", \"Artificial intelligence\", \"Data science\", \"International Monetary Fund\", \"European Central Bank\", \"Financial technology\", \n",
        " \"Swimming\", \"Basketball\", \"Football\", \"College Football\", \"Association Football\"]\n",
        "\n",
        "# download and store articles (summaries) in this variable\n",
        "data = []\n",
        "for i in articles:\n",
        "    data.append(wikipedia.summary(i))\n",
        "\n",
        "article_summaries = {}\n",
        "\n",
        "for i in articles:\n",
        "    article_summaries.update({i : wikipedia.summary(i)})\n",
        "\n",
        "data"
      ]
    },
    {
      "cell_type": "markdown",
      "metadata": {
        "id": "IgpRv7wQ4Dpm"
      },
      "source": [
        "### Cleaning the Data (5 points)\n",
        "In this step you will decide whether to clean the data or not. If you choose to clean, you may utilize the clean function from assignment 1.\n",
        "\n",
        "**Question:** Why are you (not) choosing to clean the data? Think in terms of whether cleaning data will help in the clustering or not."
      ]
    },
    {
      "cell_type": "markdown",
      "metadata": {
        "id": "-7z-h96TI4mn"
      },
      "source": [
        "I chose to clean the data before clustering it. I think cleaning the data helps in clustering because it helps in removal of unecessary words and symbols. It helps in proper cluster classification and reduces outliers."
      ]
    },
    {
      "cell_type": "markdown",
      "metadata": {
        "id": "PnZpDKcaHTGq"
      },
      "source": [
        "**Answer(1-3 sentences):** "
      ]
    },
    {
      "cell_type": "code",
      "execution_count": null,
      "metadata": {
        "id": "lNj53Pxr963N"
      },
      "outputs": [],
      "source": [
        "# You can use Assignment 1's clean message function\n",
        "import re\n",
        "import nltk\n",
        "import string\n",
        "nltk.download('punkt')\n",
        "nltk.download('stopwords')\n",
        "\n",
        "\n",
        "cleandata = pd.DataFrame.from_dict(article_summaries, orient = 'index',columns = ['Summary'])\n",
        "\n",
        "cleandata.reset_index(level=0, inplace=True)\n",
        "\n",
        "#renaming the column name\n",
        "cleandata = cleandata.rename(columns = {'index' : 'Article_Name'})\n",
        "\n",
        "#tokenizing summary\n",
        "#converting the summary to complete lowercase\n",
        "cleandata['Terms'] = [x.lower() for x in cleandata.Summary]\n",
        "\n",
        "#removing punctuations from the list of terms\n",
        "cleandata['Terms'] = [''.join(c for c in s if c not in string.punctuation) for s in cleandata.Terms]\n",
        "\n",
        "#finally tokenizing\n",
        "cleandata['Terms'] = cleandata.apply(lambda row: nltk.word_tokenize(row['Terms']),axis=1)\n",
        "\n"
      ]
    },
    {
      "cell_type": "markdown",
      "metadata": {
        "id": "bvRZUpmq-DmT"
      },
      "source": [
        "### Vectorize the articles (5 points)\n",
        "\n",
        "In this step, we will vectorize the text data. You can use TfidfVectorizer() or countVectorizer() from sklearn library."
      ]
    },
    {
      "cell_type": "code",
      "execution_count": null,
      "metadata": {
        "id": "gJk8YY89-OU4",
        "outputId": "abcb03f9-6037-4c76-938d-2e0e3e1136cf"
      },
      "outputs": [
        {
          "name": "stdout",
          "output_type": "stream",
          "text": [
            "(14, 1202)\n"
          ]
        }
      ],
      "source": [
        "from sklearn.feature_extraction.text import TfidfVectorizer\n",
        "tfidf_v = TfidfVectorizer(stop_words='english')\n",
        "tfidf_m = tfidf_v.fit_transform(cleandata.Summary)\n",
        "print(tfidf_m.shape)"
      ]
    },
    {
      "cell_type": "markdown",
      "metadata": {
        "id": "PKLvrKHRQaQq"
      },
      "source": [
        "### Sample Output:\n",
        "(36, 1552)"
      ]
    },
    {
      "cell_type": "markdown",
      "metadata": {
        "id": "M5ZrGrzD_G8d"
      },
      "source": [
        "### Plot Articles (10 points)\n",
        "Now we will try to verify the groups of articles using T-SNE from sklearn library."
      ]
    },
    {
      "cell_type": "code",
      "execution_count": null,
      "metadata": {
        "id": "SjcuZBOe-oZq",
        "outputId": "0d30a9c8-8273-4569-b882-d280cdb7f8b3"
      },
      "outputs": [
        {
          "name": "stderr",
          "output_type": "stream",
          "text": [
            "/Users/nikhilg/opt/anaconda3/lib/python3.9/site-packages/sklearn/manifold/_t_sne.py:780: FutureWarning: The default initialization in TSNE will change from 'random' to 'pca' in 1.2.\n",
            "  warnings.warn(\n",
            "/Users/nikhilg/opt/anaconda3/lib/python3.9/site-packages/sklearn/manifold/_t_sne.py:790: FutureWarning: The default learning rate in TSNE will change from 200.0 to 'auto' in 1.2.\n",
            "  warnings.warn(\n"
          ]
        },
        {
          "data": {
            "text/plain": [
              "array([[ 337.6229  ,  201.84097 ],\n",
              "       [  58.24154 , -175.30563 ],\n",
              "       [ 108.403824,  313.87262 ],\n",
              "       [-405.91153 , -230.57045 ],\n",
              "       [ 291.28354 , -302.82327 ],\n",
              "       [-127.706   ,  147.46722 ],\n",
              "       [-360.16086 ,  274.83286 ],\n",
              "       [-392.08444 ,   24.787064],\n",
              "       [ 321.7073  ,  -52.987007],\n",
              "       [  54.6485  , -441.75748 ],\n",
              "       [-176.49493 , -341.75128 ],\n",
              "       [-123.00464 ,  413.49377 ],\n",
              "       [  88.93165 ,   57.05558 ],\n",
              "       [-158.61353 ,  -84.672356]], dtype=float32)"
            ]
          },
          "execution_count": 50,
          "metadata": {},
          "output_type": "execute_result"
        }
      ],
      "source": [
        "from sklearn.manifold import TSNE\n",
        "# call TSNE() to fit the data\n",
        "m = TSNE()\n",
        "tsne = m.fit_transform(tfidf_m)\n",
        "tsne"
      ]
    },
    {
      "cell_type": "code",
      "execution_count": null,
      "metadata": {
        "id": "SAzHt78XI4mo"
      },
      "outputs": [],
      "source": [
        "x_cord, y_cord = tsne[:,0],tsne[:,1]"
      ]
    },
    {
      "cell_type": "code",
      "execution_count": null,
      "metadata": {
        "id": "hKGGlr6fI4mo",
        "outputId": "efcb1961-d4fd-43b6-90af-268ae549f41b"
      },
      "outputs": [
        {
          "data": {
            "text/plain": [
              "<matplotlib.collections.PathCollection at 0x7f9c7ac45640>"
            ]
          },
          "execution_count": 54,
          "metadata": {},
          "output_type": "execute_result"
        },
        {
          "data": {
            "image/png": "[encoded data removed]",
            "text/plain": [
              "<Figure size 720x576 with 1 Axes>"
            ]
          },
          "metadata": {
            "needs_background": "light"
          },
          "output_type": "display_data"
        }
      ],
      "source": [
        "import seaborn as sns\n",
        "import matplotlib.pyplot as plt \n",
        "\n",
        "cluster_colors = {0: '#7570b3', 1: '#39C8C6', 2: '#1b9e77', 3: '#e7298a', 4: '#66a61e', 5: '#FFB139', 6: '#d95f02'}\n",
        "\n",
        "#setting up cluster names using a dict\n",
        "cluster_names = {0: 'President, party, election', \n",
        "                 1: 'Books, novels, copies',\n",
        "                 2: 'Business, founder, executive',\n",
        "                 3: 'Actor, film, drama', \n",
        "                 4: 'Titles, world, player',\n",
        "                 5: 'Album, music, number'}\n",
        "\n",
        "# get a figure handle\n",
        "fig,ax = plt.subplots(figsize=(10,8))\n",
        "ax.scatter(x_cord[0:4],y_cord[0:4])\n",
        "ax.scatter(x_cord[4:8],y_cord[4:8])\n",
        "ax.scatter(x_cord[8:12],y_cord[8:12])"
      ]
    },
    {
      "cell_type": "markdown",
      "metadata": {
        "id": "iCY_blxjO1bs"
      },
      "source": [
        "Plot and annotate the points with different markers for different expected groups."
      ]
    },
    {
      "cell_type": "markdown",
      "metadata": {
        "id": "dYcEi1EC_UGO"
      },
      "source": [
        "**Question:** Comment about the categorizion done by T-SNE. Do the articles of related topics cluster together? (5 points)"
      ]
    },
    {
      "cell_type": "markdown",
      "metadata": {
        "id": "tde1Wu5HI6AA"
      },
      "source": [
        "**Answer(1-3 sentences):**  \n",
        "  \n"
      ]
    },
    {
      "cell_type": "markdown",
      "metadata": {
        "id": "sod257YaI4mo"
      },
      "source": [
        "The seperation betewwnn the data is clear and disticnt yet they are not clearly cluster as they are no definite shapes to form the cluster."
      ]
    },
    {
      "cell_type": "markdown",
      "metadata": {
        "id": "U2xrJddIpSsd"
      },
      "source": [
        "# Question 3 Building Neural Networks\n",
        "\n",
        "### We are gonna use Emotions Dataset for this task. We need to classify the given text into different kind of emotions like happy,sad,anger etc.., \n",
        "\n",
        "### We are providing train.txt and val.txt files along with this notebook. "
      ]
    },
    {
      "cell_type": "markdown",
      "metadata": {
        "id": "NJYmVbkvphgX"
      },
      "source": [
        "### Library Imports and Utility functions"
      ]
    },
    {
      "cell_type": "code",
      "execution_count": 1,
      "metadata": {
        "id": "BO-HU-7uorVX",
        "colab": {
          "base_uri": "https://localhost:8080/"
        },
        "outputId": "27e6c6c0-df72-4d87-b163-0bcb7962a6af"
      },
      "outputs": [
        {
          "output_type": "stream",
          "name": "stderr",
          "text": [
            "[nltk_data] Downloading package stopwords to /root/nltk_data...\n",
            "[nltk_data]   Unzipping corpora/stopwords.zip.\n",
            "[nltk_data] Downloading package wordnet to /root/nltk_data...\n",
            "[nltk_data]   Unzipping corpora/wordnet.zip.\n",
            "[nltk_data] Downloading package words to /root/nltk_data...\n",
            "[nltk_data]   Unzipping corpora/words.zip.\n",
            "[nltk_data] Downloading package omw-1.4 to /root/nltk_data...\n",
            "[nltk_data]   Unzipping corpora/omw-1.4.zip.\n"
          ]
        }
      ],
      "source": [
        "from sklearn.feature_extraction.text import CountVectorizer\n",
        "from sklearn.feature_extraction.text import TfidfVectorizer\n",
        "from sklearn.preprocessing import OneHotEncoder\n",
        "from sklearn import preprocessing\n",
        "import nltk\n",
        "from nltk.corpus import stopwords\n",
        "from nltk.stem import PorterStemmer\n",
        "from nltk.tokenize import word_tokenize\n",
        "import string\n",
        "import pandas as pd\n",
        "import re\n",
        "#string.punctuation\n",
        "import nltk\n",
        "nltk.download('stopwords')\n",
        "nltk.download('wordnet')\n",
        "nltk.download('words')\n",
        "nltk.download('omw-1.4')\n",
        "\n",
        "\n",
        "stopword = nltk.corpus.stopwords.words('english')\n",
        "wn = nltk.WordNetLemmatizer()\n",
        "ps = nltk.PorterStemmer()\n",
        "words = set(nltk.corpus.words.words())\n",
        "\n",
        "\n",
        "def clean_text(text):\n",
        "  # From the last assignment\n",
        "    text = text.lower()\n",
        "    text = re.sub(r\"http\\S+\", \"\", text)\n",
        "    text = re.sub(r\"www.\\S+\", \"\", text)\n",
        "    text_links_removed = \"\".join([char for char in text if char not in string.punctuation])\n",
        "    text_cleaned = \" \".join([word for word in re.split('\\W+', text_links_removed)\n",
        "        if word not in stopword])\n",
        "    text = \" \".join([wn.lemmatize(word) for word in re.split('\\W+', text_cleaned)])\n",
        "    return text"
      ]
    },
    {
      "cell_type": "markdown",
      "metadata": {
        "id": "B0D5wVjZw7s0"
      },
      "source": [
        "### Q) Importing the datasets and do the necessary cleaning and convert the text into the vectors which are mentioned in the below code blocks. (10 points)"
      ]
    },
    {
      "cell_type": "code",
      "execution_count": 2,
      "metadata": {
        "id": "MOMhmIlGprK9",
        "colab": {
          "base_uri": "https://localhost:8080/"
        },
        "outputId": "c09e3469-16f5-44c2-afe1-650a8589835e"
      },
      "outputs": [
        {
          "output_type": "stream",
          "name": "stdout",
          "text": [
            "Shape of training Dataset :  (16000, 2)\n",
            "Shape of testing Dataset :  (2000, 2)\n"
          ]
        }
      ],
      "source": [
        "# Import the train.txt and val.txt file into pandas dataframe format \n",
        "\n",
        "# train \n",
        "train = pd.read_csv(\"train.txt\",sep = \";\" ,header=None, names = ['text', 'emotion'])\n",
        "\n",
        "# validation\n",
        "val = pd.read_csv(\"val.txt\",sep = \";\" ,header=None, names = ['text', 'emotion'])\n",
        "\n",
        "# and printout the train.shape and validation.shape \n",
        "print(\"Shape of training Dataset : \",train.shape)\n",
        "print(\"Shape of testing Dataset : \",val.shape)\n",
        "\n",
        "# expected shape of train dataset is (16000,2) and validation dataset is (2000,2)"
      ]
    },
    {
      "cell_type": "code",
      "execution_count": 3,
      "metadata": {
        "id": "PS7K3p7AqAI8"
      },
      "outputs": [],
      "source": [
        "# clean the text in the train and validation dataframes using the clean_text function provided above\n",
        "train_clean, val_clean = [], []\n",
        "train_data = train.text.tolist()\n",
        "val_data = val.text.tolist()\n",
        "\n",
        "for text in train_data:\n",
        "    train_clean.append(clean_text(text))\n",
        "for text in val_data:\n",
        "    val_clean.append(clean_text(text))    "
      ]
    },
    {
      "cell_type": "code",
      "execution_count": 4,
      "metadata": {
        "id": "GxZC6RIjq3bu",
        "colab": {
          "base_uri": "https://localhost:8080/"
        },
        "outputId": "207c1e3a-f926-4ba5-8229-6b121408bcd6"
      },
      "outputs": [
        {
          "output_type": "stream",
          "name": "stdout",
          "text": [
            "(16000, 13457)\n",
            "(2000, 13457)\n"
          ]
        }
      ],
      "source": [
        "# initialise count vectorizer from sklearn module with default parameter\n",
        "count_vectorizer = CountVectorizer()\n",
        "\n",
        "# fit on train dataset and transform both train and validation dataset\n",
        "X_train = count_vectorizer.fit_transform(train_clean).toarray()\n",
        "X_val = count_vectorizer.transform(val_clean).toarray()\n",
        "\n",
        "print(X_train.shape)\n",
        "print(X_val.shape)"
      ]
    },
    {
      "cell_type": "code",
      "execution_count": 5,
      "metadata": {
        "id": "85nuazEzq3YT",
        "colab": {
          "base_uri": "https://localhost:8080/"
        },
        "outputId": "b804ebf0-462e-4b4b-f745-015127a3f28d"
      },
      "outputs": [
        {
          "output_type": "stream",
          "name": "stdout",
          "text": [
            "(16000, 13457)\n",
            "(2000, 13457)\n"
          ]
        }
      ],
      "source": [
        "# initialise tfidf vectorizer from sklearn module with default parameter\n",
        "tfidf_vectorizer = TfidfVectorizer()\n",
        "\n",
        "# fit on train dataset and transform both train and validation dataset\n",
        "\n",
        "X_train_tf = tfidf_vectorizer.fit_transform(train_clean).toarray()\n",
        "X_val_tf = tfidf_vectorizer.transform(val_clean).toarray()\n",
        "\n",
        "print(X_train_tf.shape)\n",
        "print(X_val_tf.shape)"
      ]
    },
    {
      "cell_type": "code",
      "execution_count": null,
      "metadata": {
        "id": "kTOG3ZBUI4mp"
      },
      "outputs": [],
      "source": [
        "# # initialise label encoder from sklearn module\n",
        "# le = preprocessing.LabelEncoder()\n",
        "\n",
        "# # fit on train labels and transform both train and validation labels\n",
        "# X_train_lenc = le.fit_transform(train['emotion'])\n",
        "# X_val_lenc = le.transform(val['emotion'])\n",
        "# X_train_lenc = pd.get_dummies(X_train_lenc)\n",
        "# X_val_lenc = pd.get_dummies(X_val_lenc)"
      ]
    },
    {
      "cell_type": "code",
      "execution_count": 6,
      "metadata": {
        "id": "jgHWAuG-q3Vm"
      },
      "outputs": [],
      "source": [
        "# initialise label encoder from sklearn module\n",
        "le = preprocessing.LabelEncoder()\n",
        "\n",
        "# fit on train labels and transform both train and validation labels\n",
        "X_train_lenc = train.emotion.tolist()\n",
        "X_val_lenc = val.emotion.tolist()\n",
        "\n",
        "y_train_lenc = le.fit_transform(X_train_lenc)\n",
        "y_val_lenc = le.fit_transform(X_val_lenc)"
      ]
    },
    {
      "cell_type": "code",
      "execution_count": 7,
      "metadata": {
        "id": "Wjdye0tvq3So"
      },
      "outputs": [],
      "source": [
        "# convert the labels into one hot encoding form\n",
        "encoder = OneHotEncoder(handle_unknown='ignore')\n",
        "\n",
        "X_train_enc = encoder.fit_transform(y_train_lenc.reshape(len(y_train_lenc),1)).toarray()\n",
        "X_val_enc = encoder.fit_transform(y_val_lenc.reshape(len(y_val_lenc),1)).toarray()"
      ]
    },
    {
      "cell_type": "code",
      "execution_count": 8,
      "metadata": {
        "colab": {
          "base_uri": "https://localhost:8080/"
        },
        "id": "eQcXSZXFI4mp",
        "outputId": "d6ba644b-3679-4180-b82a-9a1faaaf87d9"
      },
      "outputs": [
        {
          "output_type": "stream",
          "name": "stdout",
          "text": [
            "Looking in indexes: https://pypi.org/simple, https://us-python.pkg.dev/colab-wheels/public/simple/\n",
            "Requirement already satisfied: tensorflow in /usr/local/lib/python3.7/dist-packages (2.8.2+zzzcolab20220527125636)\n",
            "Requirement already satisfied: numpy>=1.20 in /usr/local/lib/python3.7/dist-packages (from tensorflow) (1.21.6)\n",
            "Requirement already satisfied: absl-py>=0.4.0 in /usr/local/lib/python3.7/dist-packages (from tensorflow) (1.1.0)\n",
            "Requirement already satisfied: wrapt>=1.11.0 in /usr/local/lib/python3.7/dist-packages (from tensorflow) (1.14.1)\n",
            "Requirement already satisfied: h5py>=2.9.0 in /usr/local/lib/python3.7/dist-packages (from tensorflow) (3.1.0)\n",
            "Requirement already satisfied: termcolor>=1.1.0 in /usr/local/lib/python3.7/dist-packages (from tensorflow) (1.1.0)\n",
            "Requirement already satisfied: tensorflow-io-gcs-filesystem>=0.23.1 in /usr/local/lib/python3.7/dist-packages (from tensorflow) (0.26.0)\n",
            "Requirement already satisfied: grpcio<2.0,>=1.24.3 in /usr/local/lib/python3.7/dist-packages (from tensorflow) (1.46.3)\n",
            "Requirement already satisfied: flatbuffers>=1.12 in /usr/local/lib/python3.7/dist-packages (from tensorflow) (2.0)\n",
            "Requirement already satisfied: astunparse>=1.6.0 in /usr/local/lib/python3.7/dist-packages (from tensorflow) (1.6.3)\n",
            "Requirement already satisfied: opt-einsum>=2.3.2 in /usr/local/lib/python3.7/dist-packages (from tensorflow) (3.3.0)\n",
            "Requirement already satisfied: tensorboard<2.9,>=2.8 in /usr/local/lib/python3.7/dist-packages (from tensorflow) (2.8.0)\n",
            "Requirement already satisfied: six>=1.12.0 in /usr/local/lib/python3.7/dist-packages (from tensorflow) (1.15.0)\n",
            "Requirement already satisfied: tensorflow-estimator<2.9,>=2.8 in /usr/local/lib/python3.7/dist-packages (from tensorflow) (2.8.0)\n",
            "Requirement already satisfied: keras<2.9,>=2.8.0rc0 in /usr/local/lib/python3.7/dist-packages (from tensorflow) (2.8.0)\n",
            "Requirement already satisfied: gast>=0.2.1 in /usr/local/lib/python3.7/dist-packages (from tensorflow) (0.5.3)\n",
            "Requirement already satisfied: google-pasta>=0.1.1 in /usr/local/lib/python3.7/dist-packages (from tensorflow) (0.2.0)\n",
            "Requirement already satisfied: protobuf<3.20,>=3.9.2 in /usr/local/lib/python3.7/dist-packages (from tensorflow) (3.17.3)\n",
            "Requirement already satisfied: keras-preprocessing>=1.1.1 in /usr/local/lib/python3.7/dist-packages (from tensorflow) (1.1.2)\n",
            "Requirement already satisfied: libclang>=9.0.1 in /usr/local/lib/python3.7/dist-packages (from tensorflow) (14.0.1)\n",
            "Requirement already satisfied: setuptools in /usr/local/lib/python3.7/dist-packages (from tensorflow) (57.4.0)\n",
            "Requirement already satisfied: typing-extensions>=3.6.6 in /usr/local/lib/python3.7/dist-packages (from tensorflow) (4.1.1)\n",
            "Requirement already satisfied: wheel<1.0,>=0.23.0 in /usr/local/lib/python3.7/dist-packages (from astunparse>=1.6.0->tensorflow) (0.37.1)\n",
            "Requirement already satisfied: cached-property in /usr/local/lib/python3.7/dist-packages (from h5py>=2.9.0->tensorflow) (1.5.2)\n",
            "Requirement already satisfied: tensorboard-data-server<0.7.0,>=0.6.0 in /usr/local/lib/python3.7/dist-packages (from tensorboard<2.9,>=2.8->tensorflow) (0.6.1)\n",
            "Requirement already satisfied: werkzeug>=0.11.15 in /usr/local/lib/python3.7/dist-packages (from tensorboard<2.9,>=2.8->tensorflow) (1.0.1)\n",
            "Requirement already satisfied: tensorboard-plugin-wit>=1.6.0 in /usr/local/lib/python3.7/dist-packages (from tensorboard<2.9,>=2.8->tensorflow) (1.8.1)\n",
            "Requirement already satisfied: google-auth<3,>=1.6.3 in /usr/local/lib/python3.7/dist-packages (from tensorboard<2.9,>=2.8->tensorflow) (1.35.0)\n",
            "Requirement already satisfied: markdown>=2.6.8 in /usr/local/lib/python3.7/dist-packages (from tensorboard<2.9,>=2.8->tensorflow) (3.3.7)\n",
            "Requirement already satisfied: google-auth-oauthlib<0.5,>=0.4.1 in /usr/local/lib/python3.7/dist-packages (from tensorboard<2.9,>=2.8->tensorflow) (0.4.6)\n",
            "Requirement already satisfied: requests<3,>=2.21.0 in /usr/local/lib/python3.7/dist-packages (from tensorboard<2.9,>=2.8->tensorflow) (2.23.0)\n",
            "Requirement already satisfied: cachetools<5.0,>=2.0.0 in /usr/local/lib/python3.7/dist-packages (from google-auth<3,>=1.6.3->tensorboard<2.9,>=2.8->tensorflow) (4.2.4)\n",
            "Requirement already satisfied: pyasn1-modules>=0.2.1 in /usr/local/lib/python3.7/dist-packages (from google-auth<3,>=1.6.3->tensorboard<2.9,>=2.8->tensorflow) (0.2.8)\n",
            "Requirement already satisfied: rsa<5,>=3.1.4 in /usr/local/lib/python3.7/dist-packages (from google-auth<3,>=1.6.3->tensorboard<2.9,>=2.8->tensorflow) (4.8)\n",
            "Requirement already satisfied: requests-oauthlib>=0.7.0 in /usr/local/lib/python3.7/dist-packages (from google-auth-oauthlib<0.5,>=0.4.1->tensorboard<2.9,>=2.8->tensorflow) (1.3.1)\n",
            "Requirement already satisfied: importlib-metadata>=4.4 in /usr/local/lib/python3.7/dist-packages (from markdown>=2.6.8->tensorboard<2.9,>=2.8->tensorflow) (4.11.4)\n",
            "Requirement already satisfied: zipp>=0.5 in /usr/local/lib/python3.7/dist-packages (from importlib-metadata>=4.4->markdown>=2.6.8->tensorboard<2.9,>=2.8->tensorflow) (3.8.0)\n",
            "Requirement already satisfied: pyasn1<0.5.0,>=0.4.6 in /usr/local/lib/python3.7/dist-packages (from pyasn1-modules>=0.2.1->google-auth<3,>=1.6.3->tensorboard<2.9,>=2.8->tensorflow) (0.4.8)\n",
            "Requirement already satisfied: idna<3,>=2.5 in /usr/local/lib/python3.7/dist-packages (from requests<3,>=2.21.0->tensorboard<2.9,>=2.8->tensorflow) (2.10)\n",
            "Requirement already satisfied: certifi>=2017.4.17 in /usr/local/lib/python3.7/dist-packages (from requests<3,>=2.21.0->tensorboard<2.9,>=2.8->tensorflow) (2022.6.15)\n",
            "Requirement already satisfied: urllib3!=1.25.0,!=1.25.1,<1.26,>=1.21.1 in /usr/local/lib/python3.7/dist-packages (from requests<3,>=2.21.0->tensorboard<2.9,>=2.8->tensorflow) (1.24.3)\n",
            "Requirement already satisfied: chardet<4,>=3.0.2 in /usr/local/lib/python3.7/dist-packages (from requests<3,>=2.21.0->tensorboard<2.9,>=2.8->tensorflow) (3.0.4)\n",
            "Requirement already satisfied: oauthlib>=3.0.0 in /usr/local/lib/python3.7/dist-packages (from requests-oauthlib>=0.7.0->google-auth-oauthlib<0.5,>=0.4.1->tensorboard<2.9,>=2.8->tensorflow) (3.2.0)\n"
          ]
        }
      ],
      "source": [
        "%pip install tensorflow"
      ]
    },
    {
      "cell_type": "markdown",
      "metadata": {
        "id": "xjsiH8YOw-Da"
      },
      "source": [
        "### Q) Build the neural networks using tensorflow keras by following the below instructions. Evaluate the model on different metrics and comment your observations. (15 points)"
      ]
    },
    {
      "cell_type": "code",
      "execution_count": 30,
      "metadata": {
        "id": "AQg14bkTq3KB"
      },
      "outputs": [],
      "source": [
        "import tensorflow as tf\n",
        "\n",
        "tf.random.set_seed(42)\n",
        "\n",
        "\n",
        "# complete this linear model in tensorflow\n",
        "def build_model(X):\n",
        "\n",
        "  # layer 1 : input layer\n",
        "  inp = tf.keras.Input((X.shape[1],))\n",
        "\n",
        "  # layer 2 : add the dense layer with 2048 units and relu activation\n",
        "  l2 = tf.keras.layers.Dense(2048, activation='relu')(inp)\n",
        "\n",
        "  # layer 3 : add the dropout layer with dropout rate of 0.5\n",
        "  l3 = tf.keras.layers.Dropout(0.5)(l2)\n",
        "\n",
        "  # layer 4 : add the dense layer with 1024 units with tanh activation and with l2 regularization\n",
        "  l4 = tf.keras.layers.Dense(1024,kernel_regularizer='l2',activation='tanh')(l3)\n",
        "\n",
        "  # layer 5 : add the dropout layer with dropout rate of 0.5\n",
        "  l5 = tf.keras.layers.Dropout(0.5)(l4)\n",
        "\n",
        "  # layer 6 : add the dense layer with 512 units with tanh activation and with l2 regularization\n",
        "  l6= tf.keras.layers.Dense(512,kernel_regularizer='l2',activation='tanh')(l5)\n",
        "\n",
        "  # layer 7 : add the dropout layer with dropout rate of 0.5\n",
        "  l7 = tf.keras.layers.Dropout(0.5)(l6)\n",
        "\n",
        "  # layer 8 : add the dense layer with 256 units with tanh activation and with l2 regularization\n",
        "  l8= tf.keras.layers.Dense(256,kernel_regularizer='l2',activation='tanh')(l7)\n",
        "\n",
        "  # layer 9 : add the dropout layer with dropout rate of 0.5\n",
        "  l9 = tf.keras.layers.Dropout(0.5)(l8)\n",
        "\n",
        "  # layer 10 : add the dense layer with 128 units with tanh activation and with l2 regularization\n",
        "  l10= tf.keras.layers.Dense(128,kernel_regularizer='l2',activation='tanh')(l9)\n",
        "\n",
        "  # layer 11 : add the dropout layer with dropout rate of 0.5\n",
        "  l11 = tf.keras.layers.Dropout(0.5)(l10)\n",
        "\n",
        "  # layer 12 : output layer with units equal to number of classes and activation as softmax\n",
        "  out = tf.keras.layers.Dense(6, activation='softmax')(l11)\n",
        "  model = tf.keras.models.Model(inputs=inp, outputs=out)\n",
        "\n",
        "  # use loss as categorical crossentropy, optimizer as rmsprop and evaluate model on auc,precision,recall,accuracy \n",
        "  opt = tf.keras.optimizers.RMSprop(learning_rate=1e-03)\n",
        "  model.compile(loss = 'categorical_crossentropy' , optimizer = opt, metrics = ['categorical_accuracy','AUC','Precision','Recall'])\n",
        "  return model"
      ]
    },
    {
      "cell_type": "code",
      "execution_count": 31,
      "metadata": {
        "colab": {
          "base_uri": "https://localhost:8080/"
        },
        "id": "PXcFWCudI4mp",
        "outputId": "9f910dc9-3fba-43eb-ece0-3ca72c5d6606"
      },
      "outputs": [
        {
          "output_type": "stream",
          "name": "stdout",
          "text": [
            "Model: \"model_1\"\n",
            "_________________________________________________________________\n",
            " Layer (type)                Output Shape              Param #   \n",
            "=================================================================\n",
            " input_2 (InputLayer)        [(None, 13457)]           0         \n",
            "                                                                 \n",
            " dense_6 (Dense)             (None, 2048)              27561984  \n",
            "                                                                 \n",
            " dropout_5 (Dropout)         (None, 2048)              0         \n",
            "                                                                 \n",
            " dense_7 (Dense)             (None, 1024)              2098176   \n",
            "                                                                 \n",
            " dropout_6 (Dropout)         (None, 1024)              0         \n",
            "                                                                 \n",
            " dense_8 (Dense)             (None, 512)               524800    \n",
            "                                                                 \n",
            " dropout_7 (Dropout)         (None, 512)               0         \n",
            "                                                                 \n",
            " dense_9 (Dense)             (None, 256)               131328    \n",
            "                                                                 \n",
            " dropout_8 (Dropout)         (None, 256)               0         \n",
            "                                                                 \n",
            " dense_10 (Dense)            (None, 128)               32896     \n",
            "                                                                 \n",
            " dropout_9 (Dropout)         (None, 128)               0         \n",
            "                                                                 \n",
            " dense_11 (Dense)            (None, 6)                 774       \n",
            "                                                                 \n",
            "=================================================================\n",
            "Total params: 30,349,958\n",
            "Trainable params: 30,349,958\n",
            "Non-trainable params: 0\n",
            "_________________________________________________________________\n"
          ]
        }
      ],
      "source": [
        "# call the build_model function and initialize the model\n",
        "model1 = build_model(X_train)\n",
        "model1.summary()"
      ]
    },
    {
      "cell_type": "code",
      "execution_count": 32,
      "metadata": {
        "id": "KyAZNgsBsxwo",
        "colab": {
          "base_uri": "https://localhost:8080/"
        },
        "outputId": "d90a0f59-d06d-423c-866d-48c1ae0ec83f"
      },
      "outputs": [
        {
          "output_type": "stream",
          "name": "stdout",
          "text": [
            "Epoch 1/10\n",
            "2000/2000 [==============================] - 546s 272ms/step - loss: 2.3440 - categorical_accuracy: 0.4230 - auc: 0.7923 - precision: 0.5968 - recall: 0.1522 - val_loss: 1.3083 - val_categorical_accuracy: 0.5815 - val_auc: 0.8805 - val_precision: 0.8113 - val_recall: 0.3160\n",
            "Epoch 2/10\n",
            "2000/2000 [==============================] - 524s 262ms/step - loss: 1.3109 - categorical_accuracy: 0.6118 - auc: 0.8864 - precision: 0.7126 - recall: 0.4498 - val_loss: 1.2677 - val_categorical_accuracy: 0.6625 - val_auc: 0.9011 - val_precision: 0.7173 - val_recall: 0.5595\n",
            "Epoch 3/10\n",
            "2000/2000 [==============================] - 620s 310ms/step - loss: 1.2114 - categorical_accuracy: 0.6700 - auc: 0.9089 - precision: 0.7412 - recall: 0.5673 - val_loss: 1.1909 - val_categorical_accuracy: 0.7055 - val_auc: 0.9125 - val_precision: 0.7626 - val_recall: 0.5750\n",
            "Epoch 4/10\n",
            "2000/2000 [==============================] - 668s 334ms/step - loss: 1.1593 - categorical_accuracy: 0.6908 - auc: 0.9189 - precision: 0.7547 - recall: 0.6021 - val_loss: 1.1860 - val_categorical_accuracy: 0.7125 - val_auc: 0.9186 - val_precision: 0.7880 - val_recall: 0.6280\n",
            "Epoch 5/10\n",
            "2000/2000 [==============================] - 671s 335ms/step - loss: 1.1178 - categorical_accuracy: 0.7072 - auc: 0.9259 - precision: 0.7664 - recall: 0.6302 - val_loss: 1.1498 - val_categorical_accuracy: 0.7105 - val_auc: 0.9218 - val_precision: 0.7598 - val_recall: 0.6185\n",
            "Epoch 6/10\n",
            "2000/2000 [==============================] - 695s 347ms/step - loss: 1.0921 - categorical_accuracy: 0.7199 - auc: 0.9300 - precision: 0.7755 - recall: 0.6508 - val_loss: 1.1410 - val_categorical_accuracy: 0.7170 - val_auc: 0.9242 - val_precision: 0.7729 - val_recall: 0.6635\n",
            "Epoch 7/10\n",
            "2000/2000 [==============================] - 692s 346ms/step - loss: 1.0737 - categorical_accuracy: 0.7251 - auc: 0.9334 - precision: 0.7792 - recall: 0.6566 - val_loss: 1.1932 - val_categorical_accuracy: 0.6820 - val_auc: 0.9172 - val_precision: 0.7163 - val_recall: 0.6425\n",
            "Epoch 8/10\n",
            "2000/2000 [==============================] - 696s 348ms/step - loss: 1.0556 - categorical_accuracy: 0.7326 - auc: 0.9368 - precision: 0.7865 - recall: 0.6704 - val_loss: 1.1612 - val_categorical_accuracy: 0.7235 - val_auc: 0.9264 - val_precision: 0.7753 - val_recall: 0.6815\n",
            "Epoch 9/10\n",
            "2000/2000 [==============================] - 698s 349ms/step - loss: 1.0520 - categorical_accuracy: 0.7359 - auc: 0.9378 - precision: 0.7867 - recall: 0.6784 - val_loss: 1.2403 - val_categorical_accuracy: 0.7040 - val_auc: 0.9132 - val_precision: 0.7440 - val_recall: 0.6685\n",
            "Epoch 10/10\n",
            "2000/2000 [==============================] - 727s 363ms/step - loss: 1.0460 - categorical_accuracy: 0.7409 - auc: 0.9388 - precision: 0.7926 - recall: 0.6891 - val_loss: 1.1931 - val_categorical_accuracy: 0.6615 - val_auc: 0.9129 - val_precision: 0.7192 - val_recall: 0.5800\n"
          ]
        }
      ],
      "source": [
        "# train and validate the model on the count vectors of text which we have created initially for 10 epochs, \n",
        "# adjust batch size according to your computation power (suggestion use : 8)\n",
        "history1 = model1.fit(X_train, X_train_enc, validation_data=(X_val, X_val_enc), epochs=10,batch_size = 8)"
      ]
    },
    {
      "cell_type": "code",
      "execution_count": 33,
      "metadata": {
        "id": "nS02IwLCsxmG",
        "colab": {
          "base_uri": "https://localhost:8080/",
          "height": 338
        },
        "outputId": "27ba2aad-ea05-4487-f2c9-19f99c30fe55"
      },
      "outputs": [
        {
          "output_type": "execute_result",
          "data": {
            "text/plain": [
              "<matplotlib.axes._subplots.AxesSubplot at 0x7faf93a5c890>"
            ]
          },
          "metadata": {},
          "execution_count": 33
        },
        {
          "output_type": "display_data",
          "data": {
            "text/plain": [
              "<Figure size 576x360 with 1 Axes>"
            ],
            "image/png": "[encoded data removed]"
          },
          "metadata": {
            "needs_background": "light"
          }
        }
      ],
      "source": [
        "# plot train loss vs val loss, train auc vs val auc, train recall vs val recall, train precision vs val precision and train accuracy vs val accuracy and comment your observations\n",
        "pd.DataFrame(history1.history).plot(figsize=(8,5))"
      ]
    },
    {
      "cell_type": "code",
      "source": [
        "from matplotlib import pyplot as plt\n",
        "\n",
        "plt.rcParams[\"figure.figsize\"] = (20,5)\n",
        "\n",
        "#accuracy\n",
        "subplot1 =plt.subplot(1,5,1)\n",
        "subplot1.plot(history1.history['categorical_accuracy'])\n",
        "subplot1.plot(history1.history['val_categorical_accuracy'])\n",
        "subplot1.set_title('model accuracy')\n",
        "subplot1.set_ylabel('accuracy')\n",
        "subplot1.set_xlabel('epoch')\n",
        "subplot1.legend(['train', 'val'], loc='upper left')\n",
        "\n",
        "#loss\n",
        "subplot2 =plt.subplot(1,5,2)\n",
        "subplot2.plot(history1.history['loss'])\n",
        "subplot2.plot(history1.history['val_loss'])\n",
        "subplot2.set_title('model loss')\n",
        "subplot2.set_ylabel('loss')\n",
        "subplot2.set_xlabel('epoch')\n",
        "subplot2.legend(['train', 'val'], loc='upper left')\n",
        "\n",
        "#AUC\n",
        "subplot3 =plt.subplot(1,5,3)\n",
        "subplot3.plot(history1.history['auc'])\n",
        "subplot3.plot(history1.history['val_auc'])\n",
        "subplot3.set_title('model auc')\n",
        "subplot3.set_ylabel('auc')\n",
        "subplot3.set_xlabel('epoch')\n",
        "subplot3.legend(['train', 'val'], loc='upper left')\n",
        "\n",
        "#precision\n",
        "subplot4 =plt.subplot(1,5,4)\n",
        "subplot4.plot(history1.history['precision'])\n",
        "subplot4.plot(history1.history['val_precision'])\n",
        "subplot4.set_title('model precision')\n",
        "subplot4.set_ylabel('precision')\n",
        "subplot4.set_xlabel('epoch')\n",
        "subplot4.legend(['train', 'val'], loc='upper left')\n",
        "\n",
        "#recall\n",
        "subplot4 =plt.subplot(1,5,5)\n",
        "subplot4.plot(history1.history['recall'])\n",
        "subplot4.plot(history1.history['val_recall'])\n",
        "subplot4.set_title('model recall')\n",
        "subplot4.set_ylabel('recall')\n",
        "subplot4.set_xlabel('epoch')\n",
        "subplot4.legend(['train', 'val'], loc='upper left')"
      ],
      "metadata": {
        "colab": {
          "base_uri": "https://localhost:8080/",
          "height": 388
        },
        "id": "WSsr9Ul-xhQw",
        "outputId": "b237fa75-9d75-40cf-e959-d06746c6cbb6"
      },
      "execution_count": 45,
      "outputs": [
        {
          "output_type": "execute_result",
          "data": {
            "text/plain": [
              "<matplotlib.legend.Legend at 0x7faf8fb8bdd0>"
            ]
          },
          "metadata": {},
          "execution_count": 45
        },
        {
          "output_type": "display_data",
          "data": {
            "text/plain": [
              "<Figure size 1440x360 with 5 Axes>"
            ],
            "image/png": "[encoded data removed]"
          },
          "metadata": {
            "needs_background": "light"
          }
        }
      ]
    },
    {
      "cell_type": "markdown",
      "source": [
        "Over time the loss of model decreases and the Accuracy , Precision, AUC and Recall increases"
      ],
      "metadata": {
        "id": "gobf4pauO5SO"
      }
    },
    {
      "cell_type": "code",
      "execution_count": 36,
      "metadata": {
        "id": "6FHdCcp7wXyw",
        "colab": {
          "base_uri": "https://localhost:8080/"
        },
        "outputId": "58908093-4d10-48eb-e409-dc93200337c3"
      },
      "outputs": [
        {
          "output_type": "stream",
          "name": "stdout",
          "text": [
            "Model: \"model_2\"\n",
            "_________________________________________________________________\n",
            " Layer (type)                Output Shape              Param #   \n",
            "=================================================================\n",
            " input_3 (InputLayer)        [(None, 13457)]           0         \n",
            "                                                                 \n",
            " dense_12 (Dense)            (None, 2048)              27561984  \n",
            "                                                                 \n",
            " dropout_10 (Dropout)        (None, 2048)              0         \n",
            "                                                                 \n",
            " dense_13 (Dense)            (None, 1024)              2098176   \n",
            "                                                                 \n",
            " dropout_11 (Dropout)        (None, 1024)              0         \n",
            "                                                                 \n",
            " dense_14 (Dense)            (None, 512)               524800    \n",
            "                                                                 \n",
            " dropout_12 (Dropout)        (None, 512)               0         \n",
            "                                                                 \n",
            " dense_15 (Dense)            (None, 256)               131328    \n",
            "                                                                 \n",
            " dropout_13 (Dropout)        (None, 256)               0         \n",
            "                                                                 \n",
            " dense_16 (Dense)            (None, 128)               32896     \n",
            "                                                                 \n",
            " dropout_14 (Dropout)        (None, 128)               0         \n",
            "                                                                 \n",
            " dense_17 (Dense)            (None, 6)                 774       \n",
            "                                                                 \n",
            "=================================================================\n",
            "Total params: 30,349,958\n",
            "Trainable params: 30,349,958\n",
            "Non-trainable params: 0\n",
            "_________________________________________________________________\n"
          ]
        }
      ],
      "source": [
        "# again call the build_model function and initialize the model\n",
        "model = build_model(X_train_tf)\n",
        "model.summary()"
      ]
    },
    {
      "cell_type": "code",
      "execution_count": 37,
      "metadata": {
        "id": "k4gB80M6wXvV",
        "colab": {
          "base_uri": "https://localhost:8080/"
        },
        "outputId": "8dd80b23-d9fe-4808-ef31-02d6c5e49094"
      },
      "outputs": [
        {
          "output_type": "stream",
          "name": "stdout",
          "text": [
            "Epoch 1/10\n",
            "2000/2000 [==============================] - 683s 341ms/step - loss: 1.9716 - categorical_accuracy: 0.3696 - auc: 0.7837 - precision: 0.4909 - recall: 0.0943 - val_loss: 1.3685 - val_categorical_accuracy: 0.4340 - val_auc: 0.8566 - val_precision: 0.6279 - val_recall: 0.2700\n",
            "Epoch 2/10\n",
            "2000/2000 [==============================] - 661s 330ms/step - loss: 1.3243 - categorical_accuracy: 0.5361 - auc: 0.8738 - precision: 0.6618 - recall: 0.3241 - val_loss: 1.2514 - val_categorical_accuracy: 0.6310 - val_auc: 0.8980 - val_precision: 0.7109 - val_recall: 0.5225\n",
            "Epoch 3/10\n",
            "2000/2000 [==============================] - 698s 349ms/step - loss: 1.2046 - categorical_accuracy: 0.6455 - auc: 0.9054 - precision: 0.7283 - recall: 0.5255 - val_loss: 1.1924 - val_categorical_accuracy: 0.6650 - val_auc: 0.9069 - val_precision: 0.7591 - val_recall: 0.5215\n",
            "Epoch 4/10\n",
            "2000/2000 [==============================] - 704s 352ms/step - loss: 1.1423 - categorical_accuracy: 0.6848 - auc: 0.9168 - precision: 0.7503 - recall: 0.5831 - val_loss: 1.1947 - val_categorical_accuracy: 0.6755 - val_auc: 0.9070 - val_precision: 0.7417 - val_recall: 0.5555\n",
            "Epoch 5/10\n",
            "2000/2000 [==============================] - 700s 350ms/step - loss: 1.1079 - categorical_accuracy: 0.7061 - auc: 0.9241 - precision: 0.7570 - recall: 0.6196 - val_loss: 1.1367 - val_categorical_accuracy: 0.7000 - val_auc: 0.9191 - val_precision: 0.7528 - val_recall: 0.6090\n",
            "Epoch 6/10\n",
            "2000/2000 [==============================] - 706s 353ms/step - loss: 1.0698 - categorical_accuracy: 0.7215 - auc: 0.9306 - precision: 0.7696 - recall: 0.6494 - val_loss: 1.1346 - val_categorical_accuracy: 0.7105 - val_auc: 0.9231 - val_precision: 0.7518 - val_recall: 0.6740\n",
            "Epoch 7/10\n",
            "2000/2000 [==============================] - 708s 354ms/step - loss: 1.0475 - categorical_accuracy: 0.7277 - auc: 0.9360 - precision: 0.7766 - recall: 0.6660 - val_loss: 1.1904 - val_categorical_accuracy: 0.6745 - val_auc: 0.9167 - val_precision: 0.7196 - val_recall: 0.6390\n",
            "Epoch 8/10\n",
            "2000/2000 [==============================] - 717s 358ms/step - loss: 1.0321 - categorical_accuracy: 0.7383 - auc: 0.9393 - precision: 0.7895 - recall: 0.6827 - val_loss: 1.1299 - val_categorical_accuracy: 0.7175 - val_auc: 0.9281 - val_precision: 0.7731 - val_recall: 0.6680\n",
            "Epoch 9/10\n",
            "2000/2000 [==============================] - 722s 361ms/step - loss: 1.0176 - categorical_accuracy: 0.7406 - auc: 0.9408 - precision: 0.7921 - recall: 0.6856 - val_loss: 1.1739 - val_categorical_accuracy: 0.7165 - val_auc: 0.9232 - val_precision: 0.7453 - val_recall: 0.6920\n",
            "Epoch 10/10\n",
            "2000/2000 [==============================] - 714s 357ms/step - loss: 1.0087 - categorical_accuracy: 0.7461 - auc: 0.9424 - precision: 0.7970 - recall: 0.6921 - val_loss: 1.1247 - val_categorical_accuracy: 0.7020 - val_auc: 0.9245 - val_precision: 0.7648 - val_recall: 0.6065\n"
          ]
        }
      ],
      "source": [
        "# train and validate the model on the tfidf vectors of text which we have created initially for 10 epochs, \n",
        "# adjust batch size according to your computation power (suggestion use : 8)\n",
        "history = model.fit(X_train_tf, X_train_enc, epochs=10,batch_size = 8, validation_data=(X_val_tf, X_val_enc))"
      ]
    },
    {
      "cell_type": "code",
      "execution_count": 38,
      "metadata": {
        "id": "EsnEOHXRwXkv",
        "colab": {
          "base_uri": "https://localhost:8080/",
          "height": 338
        },
        "outputId": "e27009d9-011d-40b3-f3a1-aae056df6289"
      },
      "outputs": [
        {
          "output_type": "execute_result",
          "data": {
            "text/plain": [
              "<matplotlib.axes._subplots.AxesSubplot at 0x7faf93349710>"
            ]
          },
          "metadata": {},
          "execution_count": 38
        },
        {
          "output_type": "display_data",
          "data": {
            "text/plain": [
              "<Figure size 576x360 with 1 Axes>"
            ],
            "image/png": "[encoded data removed]"
          },
          "metadata": {
            "needs_background": "light"
          }
        }
      ],
      "source": [
        "# plot train loss vs val loss, train auc vs val auc, train recall vs val recall, train precision vs val precision and train accuracy vs val accuracy and comment your observations\n",
        "pd.DataFrame(history.history).plot(figsize=(8,5))"
      ]
    },
    {
      "cell_type": "code",
      "source": [
        "from matplotlib import pyplot as plt\n",
        "plt.rcParams[\"figure.figsize\"] = (20,5)\n",
        "\n",
        "#accuracy\n",
        "subplot1 =plt.subplot(1,5,1)\n",
        "subplot1.plot(history.history['categorical_accuracy'])\n",
        "subplot1.plot(history.history['val_categorical_accuracy'])\n",
        "subplot1.set_title('model accuracy')\n",
        "subplot1.set_ylabel('accuracy')\n",
        "subplot1.set_xlabel('epoch')\n",
        "subplot1.legend(['train', 'val'], loc='upper left')\n",
        "\n",
        "#loss\n",
        "subplot2 =plt.subplot(1,5,2)\n",
        "subplot2.plot(history.history['loss'])\n",
        "subplot2.plot(history.history['val_loss'])\n",
        "subplot2.set_title('loss')\n",
        "subplot2.set_ylabel('loss')\n",
        "subplot2.set_xlabel('epoch')\n",
        "subplot2.legend(['train', 'val'], loc='upper left')\n",
        "\n",
        "#AUC\n",
        "subplot3 =plt.subplot(1,5,3)\n",
        "subplot3.plot(history.history['auc'])\n",
        "subplot3.plot(history.history['val_auc'])\n",
        "subplot3.set_title('auc')\n",
        "subplot3.set_ylabel('auc')\n",
        "subplot3.set_xlabel('epoch')\n",
        "subplot3.legend(['train', 'val'], loc='upper left')\n",
        "\n",
        "#precision\n",
        "subplot4 =plt.subplot(1,5,4)\n",
        "subplot4.plot(history.history['precision'])\n",
        "subplot4.plot(history.history['val_precision'])\n",
        "subplot4.set_title('precision')\n",
        "subplot4.set_ylabel('precision')\n",
        "subplot4.set_xlabel('epoch')\n",
        "subplot4.legend(['train', 'val'], loc='upper left')\n",
        "\n",
        "#recall\n",
        "subplot4 =plt.subplot(1,5,5)\n",
        "subplot4.plot(history.history['recall'])\n",
        "subplot4.plot(history.history['val_recall'])\n",
        "subplot4.set_title('recall')\n",
        "subplot4.set_ylabel('recall')\n",
        "subplot4.set_xlabel('epoch')\n",
        "subplot4.legend(['train', 'val'], loc='upper left')"
      ],
      "metadata": {
        "colab": {
          "base_uri": "https://localhost:8080/",
          "height": 388
        },
        "id": "s8IRypXGGemi",
        "outputId": "eacdfc67-a8e1-4b0a-bfff-73c96c165b63"
      },
      "execution_count": 46,
      "outputs": [
        {
          "output_type": "execute_result",
          "data": {
            "text/plain": [
              "<matplotlib.legend.Legend at 0x7faf92d7c850>"
            ]
          },
          "metadata": {},
          "execution_count": 46
        },
        {
          "output_type": "display_data",
          "data": {
            "text/plain": [
              "<Figure size 1440x360 with 5 Axes>"
            ],
            "image/png": "[encoded data removed]"
          },
          "metadata": {
            "needs_background": "light"
          }
        }
      ]
    },
    {
      "cell_type": "markdown",
      "source": [
        "Over time the loss of model decreases and the Accuracy , Precision, AUC and Recall increases."
      ],
      "metadata": {
        "id": "c191FgOxOkvK"
      }
    },
    {
      "cell_type": "markdown",
      "metadata": {
        "id": "4adDDQWeQyGb"
      },
      "source": [
        "## Question 4 Theory Question  \n",
        "\n",
        "What is the difference between Count Vectorizer, TFIDF, Word2Vec and Glove? (5 points)"
      ]
    },
    {
      "cell_type": "markdown",
      "metadata": {
        "id": "cXTRkF6KRB_D"
      },
      "source": [
        "**Answer:**"
      ]
    },
    {
      "cell_type": "markdown",
      "metadata": {
        "id": "h2rCcqdjI4mp"
      },
      "source": [
        "Glove and Word2vec are both unsupervised models for generating word vectors. The difference between them is the mechanism of generating word vectors. The word vectors generated by either of these models can be used for a wide variety of tasks ranging from finding words that are semantically similar or representing a word when it is being input to a model. \n",
        "A word embedding representation of a word captures more information about a word than just a one-hot representation of the word, since the former captures semantic similarity of that word to other words whereas the latter representation of the word is equidistant from all other words.\n",
        "While word2vec can be seen as a model that improves its ability to predict and GloVe is modeled to do dimensionality reduction. This reduction is on the co-occurrence counts matrix. Reconstruction loss tries to find the lower-dimensional representations.\n",
        "\n",
        "Tf-idf is a scoring scheme for words. It gives a measure of how important a word is to a document.\n",
        "Word2vec produces one vector per word, whereas tf-idf produces a score. Word2vec is great for going deeper into the documents we have and helps in identifying content and subsets of content. Its vectors represent each word’s context.\n",
        "\n",
        "While tf-idf is a simple scoring scheme and that is its key advantage, word embeddings may be a better choice for most tasks where tf-idf is used, particularly when the task can benefit from the semantic similarity captured by word embeddings.\n"
      ]
    },
    {
      "cell_type": "markdown",
      "metadata": {
        "id": "swudDg67I4mp"
      },
      "source": [
        "What is the significant difference between the Niave Bayes Implementation using Bag of Words and TF-IDF? (5 points)"
      ]
    },
    {
      "cell_type": "markdown",
      "metadata": {
        "id": "JtiPCTZM8Aua"
      },
      "source": [
        "**Answer:**"
      ]
    },
    {
      "cell_type": "markdown",
      "metadata": {
        "id": "TuGLqWoJI4mp"
      },
      "source": [
        "The Bag of Words (BoW) model is the simplest form of text representation in numbers. Like the term itself, we can represent a sentence as a bag of words vector.\n",
        "It builds a vocabulary from all the unique words. Then take each of these words and mark their occurrence. That’s the core idea behind a Bag of Words (BoW) model\n",
        "\n",
        "Term frequency–inverse document frequency, is a numerical statistic that is intended to reflect how important a word is to a document in a collection or corpus.\n",
        "It is a measure of how frequently a term appears in a document. \n",
        "Term Frequent we take the number of occurances each term has in the document. IDF is a measure of how important a term is. \n",
        "Then TF-IDF score for each word in the corpus is computed. Words with a higher score are more important, and those with a lower score are less important.\n",
        "TF-IDF also gives larger values for less frequent words and is high when both IDF and TF values are high i.e the word is rare in all the documents combined but frequent in a single document.\n",
        "\n",
        "The major difference when implementing Naive Bayes using BoW and TF-IDF that the TF-IDF implementation model tends to outperform the BoW implementation if the vocabulary size is relatively large. \n",
        "However, the performance of machine learning algorithms is highly dependent on the appropriate choice of features. In case of naive Bayes classifier huge differences in performance depends on the choices of stop word removal, stemming, and token-length.\n",
        "In practice, it is recommended that the choice should be made after considering comparative studies including different combinations of feature extraction and selection steps."
      ]
    }
  ],
  "metadata": {
    "colab": {
      "collapsed_sections": [],
      "name": "CS6120_NLP_Assignment_2_NotebookGN.ipynb",
      "provenance": []
    },
    "kernelspec": {
      "display_name": "Python 3",
      "language": "python",
      "name": "python3"
    },
    "language_info": {
      "codemirror_mode": {
        "name": "ipython",
        "version": 3
      },
      "file_extension": ".py",
      "mimetype": "text/x-python",
      "name": "python",
      "nbconvert_exporter": "python",
      "pygments_lexer": "ipython3",
      "version": "3.9.12"
    }
  },
  "nbformat": 4,
  "nbformat_minor": 0
}